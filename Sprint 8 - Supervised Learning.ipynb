{
 "cells": [
  {
   "cell_type": "markdown",
   "metadata": {},
   "source": [
    "# Sprint 8: Supervised Learning Project\n",
    "\n",
    "**Project Description**\n",
    "\n",
    "Beta Bank customers are leaving: little by little, chipping away every month. The bankers figured out it’s cheaper to save the existing customers rather than to attract new ones.\n",
    "\n",
    "We need to predict whether a customer will leave the bank soon. I have the data on clients’ past behavior and termination of contracts with the bank.\n",
    "\n",
    "I will build a model with the maximum possible F1 score. **I need an F1 score of at least 0.59.** I will also have to  check the F1 for the test set.\n",
    "\n",
    "Additionally, measure the AUC-ROC metric and compare it with the F1.\n"
   ]
  },
  {
   "cell_type": "markdown",
   "metadata": {},
   "source": [
    "## Download and Prepare Data"
   ]
  },
  {
   "cell_type": "code",
   "execution_count": 15,
   "metadata": {},
   "outputs": [],
   "source": [
    "# Importing libraries relevant to project\n",
    "import pandas as pd\n",
    "import plotly.express as px\n",
    "import numpy as np\n",
    "import matplotlib.pyplot as plt\n",
    "import re\n",
    "import seaborn as sns\n",
    "from sklearn.model_selection import train_test_split\n",
    "from sklearn.linear_model import LogisticRegression\n",
    "from sklearn.metrics import f1_score\n",
    "from sklearn.metrics import roc_auc_score\n",
    "from sklearn.metrics import precision_recall_curve\n",
    "from sklearn.tree import DecisionTreeClassifier\n",
    "from sklearn.ensemble import RandomForestClassifier\n"
   ]
  },
  {
   "cell_type": "code",
   "execution_count": 16,
   "metadata": {},
   "outputs": [],
   "source": [
    "# Reading the data\n",
    "df = pd.read_csv('/datasets/Churn.csv')"
   ]
  },
  {
   "cell_type": "code",
   "execution_count": 17,
   "metadata": {},
   "outputs": [
    {
     "name": "stdout",
     "output_type": "stream",
     "text": [
      "<class 'pandas.core.frame.DataFrame'>\n",
      "RangeIndex: 10000 entries, 0 to 9999\n",
      "Data columns (total 14 columns):\n",
      " #   Column           Non-Null Count  Dtype  \n",
      "---  ------           --------------  -----  \n",
      " 0   RowNumber        10000 non-null  int64  \n",
      " 1   CustomerId       10000 non-null  int64  \n",
      " 2   Surname          10000 non-null  object \n",
      " 3   CreditScore      10000 non-null  int64  \n",
      " 4   Geography        10000 non-null  object \n",
      " 5   Gender           10000 non-null  object \n",
      " 6   Age              10000 non-null  int64  \n",
      " 7   Tenure           9091 non-null   float64\n",
      " 8   Balance          10000 non-null  float64\n",
      " 9   NumOfProducts    10000 non-null  int64  \n",
      " 10  HasCrCard        10000 non-null  int64  \n",
      " 11  IsActiveMember   10000 non-null  int64  \n",
      " 12  EstimatedSalary  10000 non-null  float64\n",
      " 13  Exited           10000 non-null  int64  \n",
      "dtypes: float64(3), int64(8), object(3)\n",
      "memory usage: 1.1+ MB\n"
     ]
    },
    {
     "data": {
      "text/plain": [
       "(10000, 14)"
      ]
     },
     "metadata": {},
     "output_type": "display_data"
    },
    {
     "data": {
      "text/html": [
       "<div>\n",
       "<style scoped>\n",
       "    .dataframe tbody tr th:only-of-type {\n",
       "        vertical-align: middle;\n",
       "    }\n",
       "\n",
       "    .dataframe tbody tr th {\n",
       "        vertical-align: top;\n",
       "    }\n",
       "\n",
       "    .dataframe thead th {\n",
       "        text-align: right;\n",
       "    }\n",
       "</style>\n",
       "<table border=\"1\" class=\"dataframe\">\n",
       "  <thead>\n",
       "    <tr style=\"text-align: right;\">\n",
       "      <th></th>\n",
       "      <th>RowNumber</th>\n",
       "      <th>CustomerId</th>\n",
       "      <th>Surname</th>\n",
       "      <th>CreditScore</th>\n",
       "      <th>Geography</th>\n",
       "      <th>Gender</th>\n",
       "      <th>Age</th>\n",
       "      <th>Tenure</th>\n",
       "      <th>Balance</th>\n",
       "      <th>NumOfProducts</th>\n",
       "      <th>HasCrCard</th>\n",
       "      <th>IsActiveMember</th>\n",
       "      <th>EstimatedSalary</th>\n",
       "      <th>Exited</th>\n",
       "    </tr>\n",
       "  </thead>\n",
       "  <tbody>\n",
       "    <tr>\n",
       "      <th>0</th>\n",
       "      <td>1</td>\n",
       "      <td>15634602</td>\n",
       "      <td>Hargrave</td>\n",
       "      <td>619</td>\n",
       "      <td>France</td>\n",
       "      <td>Female</td>\n",
       "      <td>42</td>\n",
       "      <td>2.0</td>\n",
       "      <td>0.00</td>\n",
       "      <td>1</td>\n",
       "      <td>1</td>\n",
       "      <td>1</td>\n",
       "      <td>101348.88</td>\n",
       "      <td>1</td>\n",
       "    </tr>\n",
       "    <tr>\n",
       "      <th>1</th>\n",
       "      <td>2</td>\n",
       "      <td>15647311</td>\n",
       "      <td>Hill</td>\n",
       "      <td>608</td>\n",
       "      <td>Spain</td>\n",
       "      <td>Female</td>\n",
       "      <td>41</td>\n",
       "      <td>1.0</td>\n",
       "      <td>83807.86</td>\n",
       "      <td>1</td>\n",
       "      <td>0</td>\n",
       "      <td>1</td>\n",
       "      <td>112542.58</td>\n",
       "      <td>0</td>\n",
       "    </tr>\n",
       "    <tr>\n",
       "      <th>2</th>\n",
       "      <td>3</td>\n",
       "      <td>15619304</td>\n",
       "      <td>Onio</td>\n",
       "      <td>502</td>\n",
       "      <td>France</td>\n",
       "      <td>Female</td>\n",
       "      <td>42</td>\n",
       "      <td>8.0</td>\n",
       "      <td>159660.80</td>\n",
       "      <td>3</td>\n",
       "      <td>1</td>\n",
       "      <td>0</td>\n",
       "      <td>113931.57</td>\n",
       "      <td>1</td>\n",
       "    </tr>\n",
       "    <tr>\n",
       "      <th>3</th>\n",
       "      <td>4</td>\n",
       "      <td>15701354</td>\n",
       "      <td>Boni</td>\n",
       "      <td>699</td>\n",
       "      <td>France</td>\n",
       "      <td>Female</td>\n",
       "      <td>39</td>\n",
       "      <td>1.0</td>\n",
       "      <td>0.00</td>\n",
       "      <td>2</td>\n",
       "      <td>0</td>\n",
       "      <td>0</td>\n",
       "      <td>93826.63</td>\n",
       "      <td>0</td>\n",
       "    </tr>\n",
       "    <tr>\n",
       "      <th>4</th>\n",
       "      <td>5</td>\n",
       "      <td>15737888</td>\n",
       "      <td>Mitchell</td>\n",
       "      <td>850</td>\n",
       "      <td>Spain</td>\n",
       "      <td>Female</td>\n",
       "      <td>43</td>\n",
       "      <td>2.0</td>\n",
       "      <td>125510.82</td>\n",
       "      <td>1</td>\n",
       "      <td>1</td>\n",
       "      <td>1</td>\n",
       "      <td>79084.10</td>\n",
       "      <td>0</td>\n",
       "    </tr>\n",
       "    <tr>\n",
       "      <th>5</th>\n",
       "      <td>6</td>\n",
       "      <td>15574012</td>\n",
       "      <td>Chu</td>\n",
       "      <td>645</td>\n",
       "      <td>Spain</td>\n",
       "      <td>Male</td>\n",
       "      <td>44</td>\n",
       "      <td>8.0</td>\n",
       "      <td>113755.78</td>\n",
       "      <td>2</td>\n",
       "      <td>1</td>\n",
       "      <td>0</td>\n",
       "      <td>149756.71</td>\n",
       "      <td>1</td>\n",
       "    </tr>\n",
       "    <tr>\n",
       "      <th>6</th>\n",
       "      <td>7</td>\n",
       "      <td>15592531</td>\n",
       "      <td>Bartlett</td>\n",
       "      <td>822</td>\n",
       "      <td>France</td>\n",
       "      <td>Male</td>\n",
       "      <td>50</td>\n",
       "      <td>7.0</td>\n",
       "      <td>0.00</td>\n",
       "      <td>2</td>\n",
       "      <td>1</td>\n",
       "      <td>1</td>\n",
       "      <td>10062.80</td>\n",
       "      <td>0</td>\n",
       "    </tr>\n",
       "    <tr>\n",
       "      <th>7</th>\n",
       "      <td>8</td>\n",
       "      <td>15656148</td>\n",
       "      <td>Obinna</td>\n",
       "      <td>376</td>\n",
       "      <td>Germany</td>\n",
       "      <td>Female</td>\n",
       "      <td>29</td>\n",
       "      <td>4.0</td>\n",
       "      <td>115046.74</td>\n",
       "      <td>4</td>\n",
       "      <td>1</td>\n",
       "      <td>0</td>\n",
       "      <td>119346.88</td>\n",
       "      <td>1</td>\n",
       "    </tr>\n",
       "    <tr>\n",
       "      <th>8</th>\n",
       "      <td>9</td>\n",
       "      <td>15792365</td>\n",
       "      <td>He</td>\n",
       "      <td>501</td>\n",
       "      <td>France</td>\n",
       "      <td>Male</td>\n",
       "      <td>44</td>\n",
       "      <td>4.0</td>\n",
       "      <td>142051.07</td>\n",
       "      <td>2</td>\n",
       "      <td>0</td>\n",
       "      <td>1</td>\n",
       "      <td>74940.50</td>\n",
       "      <td>0</td>\n",
       "    </tr>\n",
       "    <tr>\n",
       "      <th>9</th>\n",
       "      <td>10</td>\n",
       "      <td>15592389</td>\n",
       "      <td>H?</td>\n",
       "      <td>684</td>\n",
       "      <td>France</td>\n",
       "      <td>Male</td>\n",
       "      <td>27</td>\n",
       "      <td>2.0</td>\n",
       "      <td>134603.88</td>\n",
       "      <td>1</td>\n",
       "      <td>1</td>\n",
       "      <td>1</td>\n",
       "      <td>71725.73</td>\n",
       "      <td>0</td>\n",
       "    </tr>\n",
       "  </tbody>\n",
       "</table>\n",
       "</div>"
      ],
      "text/plain": [
       "   RowNumber  CustomerId   Surname  CreditScore Geography  Gender  Age  \\\n",
       "0          1    15634602  Hargrave          619    France  Female   42   \n",
       "1          2    15647311      Hill          608     Spain  Female   41   \n",
       "2          3    15619304      Onio          502    France  Female   42   \n",
       "3          4    15701354      Boni          699    France  Female   39   \n",
       "4          5    15737888  Mitchell          850     Spain  Female   43   \n",
       "5          6    15574012       Chu          645     Spain    Male   44   \n",
       "6          7    15592531  Bartlett          822    France    Male   50   \n",
       "7          8    15656148    Obinna          376   Germany  Female   29   \n",
       "8          9    15792365        He          501    France    Male   44   \n",
       "9         10    15592389        H?          684    France    Male   27   \n",
       "\n",
       "   Tenure    Balance  NumOfProducts  HasCrCard  IsActiveMember  \\\n",
       "0     2.0       0.00              1          1               1   \n",
       "1     1.0   83807.86              1          0               1   \n",
       "2     8.0  159660.80              3          1               0   \n",
       "3     1.0       0.00              2          0               0   \n",
       "4     2.0  125510.82              1          1               1   \n",
       "5     8.0  113755.78              2          1               0   \n",
       "6     7.0       0.00              2          1               1   \n",
       "7     4.0  115046.74              4          1               0   \n",
       "8     4.0  142051.07              2          0               1   \n",
       "9     2.0  134603.88              1          1               1   \n",
       "\n",
       "   EstimatedSalary  Exited  \n",
       "0        101348.88       1  \n",
       "1        112542.58       0  \n",
       "2        113931.57       1  \n",
       "3         93826.63       0  \n",
       "4         79084.10       0  \n",
       "5        149756.71       1  \n",
       "6         10062.80       0  \n",
       "7        119346.88       1  \n",
       "8         74940.50       0  \n",
       "9         71725.73       0  "
      ]
     },
     "metadata": {},
     "output_type": "display_data"
    },
    {
     "data": {
      "text/html": [
       "<div>\n",
       "<style scoped>\n",
       "    .dataframe tbody tr th:only-of-type {\n",
       "        vertical-align: middle;\n",
       "    }\n",
       "\n",
       "    .dataframe tbody tr th {\n",
       "        vertical-align: top;\n",
       "    }\n",
       "\n",
       "    .dataframe thead th {\n",
       "        text-align: right;\n",
       "    }\n",
       "</style>\n",
       "<table border=\"1\" class=\"dataframe\">\n",
       "  <thead>\n",
       "    <tr style=\"text-align: right;\">\n",
       "      <th></th>\n",
       "      <th>RowNumber</th>\n",
       "      <th>CustomerId</th>\n",
       "      <th>CreditScore</th>\n",
       "      <th>Age</th>\n",
       "      <th>Tenure</th>\n",
       "      <th>Balance</th>\n",
       "      <th>NumOfProducts</th>\n",
       "      <th>HasCrCard</th>\n",
       "      <th>IsActiveMember</th>\n",
       "      <th>EstimatedSalary</th>\n",
       "      <th>Exited</th>\n",
       "    </tr>\n",
       "  </thead>\n",
       "  <tbody>\n",
       "    <tr>\n",
       "      <th>count</th>\n",
       "      <td>10000.00000</td>\n",
       "      <td>1.000000e+04</td>\n",
       "      <td>10000.000000</td>\n",
       "      <td>10000.000000</td>\n",
       "      <td>9091.000000</td>\n",
       "      <td>10000.000000</td>\n",
       "      <td>10000.000000</td>\n",
       "      <td>10000.00000</td>\n",
       "      <td>10000.000000</td>\n",
       "      <td>10000.000000</td>\n",
       "      <td>10000.000000</td>\n",
       "    </tr>\n",
       "    <tr>\n",
       "      <th>mean</th>\n",
       "      <td>5000.50000</td>\n",
       "      <td>1.569094e+07</td>\n",
       "      <td>650.528800</td>\n",
       "      <td>38.921800</td>\n",
       "      <td>4.997690</td>\n",
       "      <td>76485.889288</td>\n",
       "      <td>1.530200</td>\n",
       "      <td>0.70550</td>\n",
       "      <td>0.515100</td>\n",
       "      <td>100090.239881</td>\n",
       "      <td>0.203700</td>\n",
       "    </tr>\n",
       "    <tr>\n",
       "      <th>std</th>\n",
       "      <td>2886.89568</td>\n",
       "      <td>7.193619e+04</td>\n",
       "      <td>96.653299</td>\n",
       "      <td>10.487806</td>\n",
       "      <td>2.894723</td>\n",
       "      <td>62397.405202</td>\n",
       "      <td>0.581654</td>\n",
       "      <td>0.45584</td>\n",
       "      <td>0.499797</td>\n",
       "      <td>57510.492818</td>\n",
       "      <td>0.402769</td>\n",
       "    </tr>\n",
       "    <tr>\n",
       "      <th>min</th>\n",
       "      <td>1.00000</td>\n",
       "      <td>1.556570e+07</td>\n",
       "      <td>350.000000</td>\n",
       "      <td>18.000000</td>\n",
       "      <td>0.000000</td>\n",
       "      <td>0.000000</td>\n",
       "      <td>1.000000</td>\n",
       "      <td>0.00000</td>\n",
       "      <td>0.000000</td>\n",
       "      <td>11.580000</td>\n",
       "      <td>0.000000</td>\n",
       "    </tr>\n",
       "    <tr>\n",
       "      <th>25%</th>\n",
       "      <td>2500.75000</td>\n",
       "      <td>1.562853e+07</td>\n",
       "      <td>584.000000</td>\n",
       "      <td>32.000000</td>\n",
       "      <td>2.000000</td>\n",
       "      <td>0.000000</td>\n",
       "      <td>1.000000</td>\n",
       "      <td>0.00000</td>\n",
       "      <td>0.000000</td>\n",
       "      <td>51002.110000</td>\n",
       "      <td>0.000000</td>\n",
       "    </tr>\n",
       "    <tr>\n",
       "      <th>50%</th>\n",
       "      <td>5000.50000</td>\n",
       "      <td>1.569074e+07</td>\n",
       "      <td>652.000000</td>\n",
       "      <td>37.000000</td>\n",
       "      <td>5.000000</td>\n",
       "      <td>97198.540000</td>\n",
       "      <td>1.000000</td>\n",
       "      <td>1.00000</td>\n",
       "      <td>1.000000</td>\n",
       "      <td>100193.915000</td>\n",
       "      <td>0.000000</td>\n",
       "    </tr>\n",
       "    <tr>\n",
       "      <th>75%</th>\n",
       "      <td>7500.25000</td>\n",
       "      <td>1.575323e+07</td>\n",
       "      <td>718.000000</td>\n",
       "      <td>44.000000</td>\n",
       "      <td>7.000000</td>\n",
       "      <td>127644.240000</td>\n",
       "      <td>2.000000</td>\n",
       "      <td>1.00000</td>\n",
       "      <td>1.000000</td>\n",
       "      <td>149388.247500</td>\n",
       "      <td>0.000000</td>\n",
       "    </tr>\n",
       "    <tr>\n",
       "      <th>max</th>\n",
       "      <td>10000.00000</td>\n",
       "      <td>1.581569e+07</td>\n",
       "      <td>850.000000</td>\n",
       "      <td>92.000000</td>\n",
       "      <td>10.000000</td>\n",
       "      <td>250898.090000</td>\n",
       "      <td>4.000000</td>\n",
       "      <td>1.00000</td>\n",
       "      <td>1.000000</td>\n",
       "      <td>199992.480000</td>\n",
       "      <td>1.000000</td>\n",
       "    </tr>\n",
       "  </tbody>\n",
       "</table>\n",
       "</div>"
      ],
      "text/plain": [
       "         RowNumber    CustomerId   CreditScore           Age       Tenure  \\\n",
       "count  10000.00000  1.000000e+04  10000.000000  10000.000000  9091.000000   \n",
       "mean    5000.50000  1.569094e+07    650.528800     38.921800     4.997690   \n",
       "std     2886.89568  7.193619e+04     96.653299     10.487806     2.894723   \n",
       "min        1.00000  1.556570e+07    350.000000     18.000000     0.000000   \n",
       "25%     2500.75000  1.562853e+07    584.000000     32.000000     2.000000   \n",
       "50%     5000.50000  1.569074e+07    652.000000     37.000000     5.000000   \n",
       "75%     7500.25000  1.575323e+07    718.000000     44.000000     7.000000   \n",
       "max    10000.00000  1.581569e+07    850.000000     92.000000    10.000000   \n",
       "\n",
       "             Balance  NumOfProducts    HasCrCard  IsActiveMember  \\\n",
       "count   10000.000000   10000.000000  10000.00000    10000.000000   \n",
       "mean    76485.889288       1.530200      0.70550        0.515100   \n",
       "std     62397.405202       0.581654      0.45584        0.499797   \n",
       "min         0.000000       1.000000      0.00000        0.000000   \n",
       "25%         0.000000       1.000000      0.00000        0.000000   \n",
       "50%     97198.540000       1.000000      1.00000        1.000000   \n",
       "75%    127644.240000       2.000000      1.00000        1.000000   \n",
       "max    250898.090000       4.000000      1.00000        1.000000   \n",
       "\n",
       "       EstimatedSalary        Exited  \n",
       "count     10000.000000  10000.000000  \n",
       "mean     100090.239881      0.203700  \n",
       "std       57510.492818      0.402769  \n",
       "min          11.580000      0.000000  \n",
       "25%       51002.110000      0.000000  \n",
       "50%      100193.915000      0.000000  \n",
       "75%      149388.247500      0.000000  \n",
       "max      199992.480000      1.000000  "
      ]
     },
     "metadata": {},
     "output_type": "display_data"
    }
   ],
   "source": [
    "# Review Data\n",
    "df.info()\n",
    "display(df.shape)\n",
    "display(df.head(10))\n",
    "display(df.describe())"
   ]
  },
  {
   "cell_type": "code",
   "execution_count": 18,
   "metadata": {},
   "outputs": [
    {
     "data": {
      "text/plain": [
       "0"
      ]
     },
     "execution_count": 18,
     "metadata": {},
     "output_type": "execute_result"
    }
   ],
   "source": [
    "# Checking for duplicates\n",
    "df.duplicated().sum()"
   ]
  },
  {
   "cell_type": "code",
   "execution_count": 19,
   "metadata": {},
   "outputs": [
    {
     "data": {
      "text/plain": [
       "RowNumber            0\n",
       "CustomerId           0\n",
       "Surname              0\n",
       "CreditScore          0\n",
       "Geography            0\n",
       "Gender               0\n",
       "Age                  0\n",
       "Tenure             909\n",
       "Balance              0\n",
       "NumOfProducts        0\n",
       "HasCrCard            0\n",
       "IsActiveMember       0\n",
       "EstimatedSalary      0\n",
       "Exited               0\n",
       "dtype: int64"
      ]
     },
     "execution_count": 19,
     "metadata": {},
     "output_type": "execute_result"
    }
   ],
   "source": [
    "# Checking for missing values\n",
    "df.isnull().sum()"
   ]
  },
  {
   "cell_type": "code",
   "execution_count": 20,
   "metadata": {},
   "outputs": [
    {
     "data": {
      "text/html": [
       "<div>\n",
       "<style scoped>\n",
       "    .dataframe tbody tr th:only-of-type {\n",
       "        vertical-align: middle;\n",
       "    }\n",
       "\n",
       "    .dataframe tbody tr th {\n",
       "        vertical-align: top;\n",
       "    }\n",
       "\n",
       "    .dataframe thead th {\n",
       "        text-align: right;\n",
       "    }\n",
       "</style>\n",
       "<table border=\"1\" class=\"dataframe\">\n",
       "  <thead>\n",
       "    <tr style=\"text-align: right;\">\n",
       "      <th></th>\n",
       "      <th>RowNumber</th>\n",
       "      <th>CustomerId</th>\n",
       "      <th>Surname</th>\n",
       "      <th>CreditScore</th>\n",
       "      <th>Geography</th>\n",
       "      <th>Gender</th>\n",
       "      <th>Age</th>\n",
       "      <th>Tenure</th>\n",
       "      <th>Balance</th>\n",
       "      <th>NumOfProducts</th>\n",
       "      <th>HasCrCard</th>\n",
       "      <th>IsActiveMember</th>\n",
       "      <th>EstimatedSalary</th>\n",
       "      <th>Exited</th>\n",
       "    </tr>\n",
       "  </thead>\n",
       "  <tbody>\n",
       "    <tr>\n",
       "      <th>30</th>\n",
       "      <td>31</td>\n",
       "      <td>15589475</td>\n",
       "      <td>Azikiwe</td>\n",
       "      <td>591</td>\n",
       "      <td>Spain</td>\n",
       "      <td>Female</td>\n",
       "      <td>39</td>\n",
       "      <td>NaN</td>\n",
       "      <td>0.00</td>\n",
       "      <td>3</td>\n",
       "      <td>1</td>\n",
       "      <td>0</td>\n",
       "      <td>140469.38</td>\n",
       "      <td>1</td>\n",
       "    </tr>\n",
       "    <tr>\n",
       "      <th>48</th>\n",
       "      <td>49</td>\n",
       "      <td>15766205</td>\n",
       "      <td>Yin</td>\n",
       "      <td>550</td>\n",
       "      <td>Germany</td>\n",
       "      <td>Male</td>\n",
       "      <td>38</td>\n",
       "      <td>NaN</td>\n",
       "      <td>103391.38</td>\n",
       "      <td>1</td>\n",
       "      <td>0</td>\n",
       "      <td>1</td>\n",
       "      <td>90878.13</td>\n",
       "      <td>0</td>\n",
       "    </tr>\n",
       "    <tr>\n",
       "      <th>51</th>\n",
       "      <td>52</td>\n",
       "      <td>15768193</td>\n",
       "      <td>Trevisani</td>\n",
       "      <td>585</td>\n",
       "      <td>Germany</td>\n",
       "      <td>Male</td>\n",
       "      <td>36</td>\n",
       "      <td>NaN</td>\n",
       "      <td>146050.97</td>\n",
       "      <td>2</td>\n",
       "      <td>0</td>\n",
       "      <td>0</td>\n",
       "      <td>86424.57</td>\n",
       "      <td>0</td>\n",
       "    </tr>\n",
       "    <tr>\n",
       "      <th>53</th>\n",
       "      <td>54</td>\n",
       "      <td>15702298</td>\n",
       "      <td>Parkhill</td>\n",
       "      <td>655</td>\n",
       "      <td>Germany</td>\n",
       "      <td>Male</td>\n",
       "      <td>41</td>\n",
       "      <td>NaN</td>\n",
       "      <td>125561.97</td>\n",
       "      <td>1</td>\n",
       "      <td>0</td>\n",
       "      <td>0</td>\n",
       "      <td>164040.94</td>\n",
       "      <td>1</td>\n",
       "    </tr>\n",
       "    <tr>\n",
       "      <th>60</th>\n",
       "      <td>61</td>\n",
       "      <td>15651280</td>\n",
       "      <td>Hunter</td>\n",
       "      <td>742</td>\n",
       "      <td>Germany</td>\n",
       "      <td>Male</td>\n",
       "      <td>35</td>\n",
       "      <td>NaN</td>\n",
       "      <td>136857.00</td>\n",
       "      <td>1</td>\n",
       "      <td>0</td>\n",
       "      <td>0</td>\n",
       "      <td>84509.57</td>\n",
       "      <td>0</td>\n",
       "    </tr>\n",
       "    <tr>\n",
       "      <th>82</th>\n",
       "      <td>83</td>\n",
       "      <td>15641732</td>\n",
       "      <td>Mills</td>\n",
       "      <td>543</td>\n",
       "      <td>France</td>\n",
       "      <td>Female</td>\n",
       "      <td>36</td>\n",
       "      <td>NaN</td>\n",
       "      <td>0.00</td>\n",
       "      <td>2</td>\n",
       "      <td>0</td>\n",
       "      <td>0</td>\n",
       "      <td>26019.59</td>\n",
       "      <td>0</td>\n",
       "    </tr>\n",
       "    <tr>\n",
       "      <th>85</th>\n",
       "      <td>86</td>\n",
       "      <td>15805254</td>\n",
       "      <td>Ndukaku</td>\n",
       "      <td>652</td>\n",
       "      <td>Spain</td>\n",
       "      <td>Female</td>\n",
       "      <td>75</td>\n",
       "      <td>NaN</td>\n",
       "      <td>0.00</td>\n",
       "      <td>2</td>\n",
       "      <td>1</td>\n",
       "      <td>1</td>\n",
       "      <td>114675.75</td>\n",
       "      <td>0</td>\n",
       "    </tr>\n",
       "    <tr>\n",
       "      <th>94</th>\n",
       "      <td>95</td>\n",
       "      <td>15676966</td>\n",
       "      <td>Capon</td>\n",
       "      <td>730</td>\n",
       "      <td>Spain</td>\n",
       "      <td>Male</td>\n",
       "      <td>42</td>\n",
       "      <td>NaN</td>\n",
       "      <td>0.00</td>\n",
       "      <td>2</td>\n",
       "      <td>0</td>\n",
       "      <td>1</td>\n",
       "      <td>85982.47</td>\n",
       "      <td>0</td>\n",
       "    </tr>\n",
       "    <tr>\n",
       "      <th>99</th>\n",
       "      <td>100</td>\n",
       "      <td>15633059</td>\n",
       "      <td>Fanucci</td>\n",
       "      <td>413</td>\n",
       "      <td>France</td>\n",
       "      <td>Male</td>\n",
       "      <td>34</td>\n",
       "      <td>NaN</td>\n",
       "      <td>0.00</td>\n",
       "      <td>2</td>\n",
       "      <td>0</td>\n",
       "      <td>0</td>\n",
       "      <td>6534.18</td>\n",
       "      <td>0</td>\n",
       "    </tr>\n",
       "    <tr>\n",
       "      <th>111</th>\n",
       "      <td>112</td>\n",
       "      <td>15665790</td>\n",
       "      <td>Rowntree</td>\n",
       "      <td>538</td>\n",
       "      <td>Germany</td>\n",
       "      <td>Male</td>\n",
       "      <td>39</td>\n",
       "      <td>NaN</td>\n",
       "      <td>108055.10</td>\n",
       "      <td>2</td>\n",
       "      <td>1</td>\n",
       "      <td>0</td>\n",
       "      <td>27231.26</td>\n",
       "      <td>0</td>\n",
       "    </tr>\n",
       "    <tr>\n",
       "      <th>123</th>\n",
       "      <td>124</td>\n",
       "      <td>15760085</td>\n",
       "      <td>Calabresi</td>\n",
       "      <td>684</td>\n",
       "      <td>Germany</td>\n",
       "      <td>Female</td>\n",
       "      <td>48</td>\n",
       "      <td>NaN</td>\n",
       "      <td>126384.42</td>\n",
       "      <td>1</td>\n",
       "      <td>1</td>\n",
       "      <td>1</td>\n",
       "      <td>198129.36</td>\n",
       "      <td>0</td>\n",
       "    </tr>\n",
       "    <tr>\n",
       "      <th>125</th>\n",
       "      <td>126</td>\n",
       "      <td>15627360</td>\n",
       "      <td>Fuller</td>\n",
       "      <td>432</td>\n",
       "      <td>France</td>\n",
       "      <td>Male</td>\n",
       "      <td>42</td>\n",
       "      <td>NaN</td>\n",
       "      <td>152603.45</td>\n",
       "      <td>1</td>\n",
       "      <td>1</td>\n",
       "      <td>0</td>\n",
       "      <td>110265.24</td>\n",
       "      <td>1</td>\n",
       "    </tr>\n",
       "    <tr>\n",
       "      <th>146</th>\n",
       "      <td>147</td>\n",
       "      <td>15705707</td>\n",
       "      <td>Bennelong</td>\n",
       "      <td>635</td>\n",
       "      <td>Spain</td>\n",
       "      <td>Female</td>\n",
       "      <td>29</td>\n",
       "      <td>NaN</td>\n",
       "      <td>138296.94</td>\n",
       "      <td>2</td>\n",
       "      <td>1</td>\n",
       "      <td>0</td>\n",
       "      <td>141075.51</td>\n",
       "      <td>0</td>\n",
       "    </tr>\n",
       "    <tr>\n",
       "      <th>162</th>\n",
       "      <td>163</td>\n",
       "      <td>15630910</td>\n",
       "      <td>Treacy</td>\n",
       "      <td>800</td>\n",
       "      <td>France</td>\n",
       "      <td>Female</td>\n",
       "      <td>49</td>\n",
       "      <td>NaN</td>\n",
       "      <td>108007.36</td>\n",
       "      <td>1</td>\n",
       "      <td>0</td>\n",
       "      <td>0</td>\n",
       "      <td>47125.11</td>\n",
       "      <td>0</td>\n",
       "    </tr>\n",
       "    <tr>\n",
       "      <th>173</th>\n",
       "      <td>174</td>\n",
       "      <td>15586310</td>\n",
       "      <td>Ting</td>\n",
       "      <td>578</td>\n",
       "      <td>France</td>\n",
       "      <td>Male</td>\n",
       "      <td>30</td>\n",
       "      <td>NaN</td>\n",
       "      <td>169462.09</td>\n",
       "      <td>1</td>\n",
       "      <td>1</td>\n",
       "      <td>0</td>\n",
       "      <td>112187.11</td>\n",
       "      <td>0</td>\n",
       "    </tr>\n",
       "    <tr>\n",
       "      <th>180</th>\n",
       "      <td>181</td>\n",
       "      <td>15716334</td>\n",
       "      <td>Rozier</td>\n",
       "      <td>850</td>\n",
       "      <td>Spain</td>\n",
       "      <td>Female</td>\n",
       "      <td>45</td>\n",
       "      <td>NaN</td>\n",
       "      <td>122311.21</td>\n",
       "      <td>1</td>\n",
       "      <td>1</td>\n",
       "      <td>1</td>\n",
       "      <td>19482.50</td>\n",
       "      <td>0</td>\n",
       "    </tr>\n",
       "    <tr>\n",
       "      <th>217</th>\n",
       "      <td>218</td>\n",
       "      <td>15786308</td>\n",
       "      <td>Millar</td>\n",
       "      <td>730</td>\n",
       "      <td>Spain</td>\n",
       "      <td>Female</td>\n",
       "      <td>33</td>\n",
       "      <td>NaN</td>\n",
       "      <td>0.00</td>\n",
       "      <td>2</td>\n",
       "      <td>0</td>\n",
       "      <td>0</td>\n",
       "      <td>176576.62</td>\n",
       "      <td>0</td>\n",
       "    </tr>\n",
       "    <tr>\n",
       "      <th>222</th>\n",
       "      <td>223</td>\n",
       "      <td>15727829</td>\n",
       "      <td>McIntyre</td>\n",
       "      <td>567</td>\n",
       "      <td>France</td>\n",
       "      <td>Male</td>\n",
       "      <td>42</td>\n",
       "      <td>NaN</td>\n",
       "      <td>0.00</td>\n",
       "      <td>2</td>\n",
       "      <td>1</td>\n",
       "      <td>1</td>\n",
       "      <td>167984.61</td>\n",
       "      <td>0</td>\n",
       "    </tr>\n",
       "    <tr>\n",
       "      <th>225</th>\n",
       "      <td>226</td>\n",
       "      <td>15699029</td>\n",
       "      <td>Bagley</td>\n",
       "      <td>670</td>\n",
       "      <td>France</td>\n",
       "      <td>Male</td>\n",
       "      <td>37</td>\n",
       "      <td>NaN</td>\n",
       "      <td>170557.91</td>\n",
       "      <td>2</td>\n",
       "      <td>1</td>\n",
       "      <td>0</td>\n",
       "      <td>198252.88</td>\n",
       "      <td>0</td>\n",
       "    </tr>\n",
       "    <tr>\n",
       "      <th>237</th>\n",
       "      <td>238</td>\n",
       "      <td>15764866</td>\n",
       "      <td>Synnot</td>\n",
       "      <td>539</td>\n",
       "      <td>Germany</td>\n",
       "      <td>Female</td>\n",
       "      <td>43</td>\n",
       "      <td>NaN</td>\n",
       "      <td>116220.50</td>\n",
       "      <td>3</td>\n",
       "      <td>1</td>\n",
       "      <td>0</td>\n",
       "      <td>55803.96</td>\n",
       "      <td>1</td>\n",
       "    </tr>\n",
       "  </tbody>\n",
       "</table>\n",
       "</div>"
      ],
      "text/plain": [
       "     RowNumber  CustomerId    Surname  CreditScore Geography  Gender  Age  \\\n",
       "30          31    15589475    Azikiwe          591     Spain  Female   39   \n",
       "48          49    15766205        Yin          550   Germany    Male   38   \n",
       "51          52    15768193  Trevisani          585   Germany    Male   36   \n",
       "53          54    15702298   Parkhill          655   Germany    Male   41   \n",
       "60          61    15651280     Hunter          742   Germany    Male   35   \n",
       "82          83    15641732      Mills          543    France  Female   36   \n",
       "85          86    15805254    Ndukaku          652     Spain  Female   75   \n",
       "94          95    15676966      Capon          730     Spain    Male   42   \n",
       "99         100    15633059    Fanucci          413    France    Male   34   \n",
       "111        112    15665790   Rowntree          538   Germany    Male   39   \n",
       "123        124    15760085  Calabresi          684   Germany  Female   48   \n",
       "125        126    15627360     Fuller          432    France    Male   42   \n",
       "146        147    15705707  Bennelong          635     Spain  Female   29   \n",
       "162        163    15630910     Treacy          800    France  Female   49   \n",
       "173        174    15586310       Ting          578    France    Male   30   \n",
       "180        181    15716334     Rozier          850     Spain  Female   45   \n",
       "217        218    15786308     Millar          730     Spain  Female   33   \n",
       "222        223    15727829   McIntyre          567    France    Male   42   \n",
       "225        226    15699029     Bagley          670    France    Male   37   \n",
       "237        238    15764866     Synnot          539   Germany  Female   43   \n",
       "\n",
       "     Tenure    Balance  NumOfProducts  HasCrCard  IsActiveMember  \\\n",
       "30      NaN       0.00              3          1               0   \n",
       "48      NaN  103391.38              1          0               1   \n",
       "51      NaN  146050.97              2          0               0   \n",
       "53      NaN  125561.97              1          0               0   \n",
       "60      NaN  136857.00              1          0               0   \n",
       "82      NaN       0.00              2          0               0   \n",
       "85      NaN       0.00              2          1               1   \n",
       "94      NaN       0.00              2          0               1   \n",
       "99      NaN       0.00              2          0               0   \n",
       "111     NaN  108055.10              2          1               0   \n",
       "123     NaN  126384.42              1          1               1   \n",
       "125     NaN  152603.45              1          1               0   \n",
       "146     NaN  138296.94              2          1               0   \n",
       "162     NaN  108007.36              1          0               0   \n",
       "173     NaN  169462.09              1          1               0   \n",
       "180     NaN  122311.21              1          1               1   \n",
       "217     NaN       0.00              2          0               0   \n",
       "222     NaN       0.00              2          1               1   \n",
       "225     NaN  170557.91              2          1               0   \n",
       "237     NaN  116220.50              3          1               0   \n",
       "\n",
       "     EstimatedSalary  Exited  \n",
       "30         140469.38       1  \n",
       "48          90878.13       0  \n",
       "51          86424.57       0  \n",
       "53         164040.94       1  \n",
       "60          84509.57       0  \n",
       "82          26019.59       0  \n",
       "85         114675.75       0  \n",
       "94          85982.47       0  \n",
       "99           6534.18       0  \n",
       "111         27231.26       0  \n",
       "123        198129.36       0  \n",
       "125        110265.24       1  \n",
       "146        141075.51       0  \n",
       "162         47125.11       0  \n",
       "173        112187.11       0  \n",
       "180         19482.50       0  \n",
       "217        176576.62       0  \n",
       "222        167984.61       0  \n",
       "225        198252.88       0  \n",
       "237         55803.96       1  "
      ]
     },
     "execution_count": 20,
     "metadata": {},
     "output_type": "execute_result"
    }
   ],
   "source": [
    "# Inspecting the missing values in the Tenure Feature\n",
    "df[df['Tenure'].isna()].head(20)"
   ]
  },
  {
   "cell_type": "code",
   "execution_count": 21,
   "metadata": {},
   "outputs": [
    {
     "data": {
      "text/html": [
       "<div>\n",
       "<style scoped>\n",
       "    .dataframe tbody tr th:only-of-type {\n",
       "        vertical-align: middle;\n",
       "    }\n",
       "\n",
       "    .dataframe tbody tr th {\n",
       "        vertical-align: top;\n",
       "    }\n",
       "\n",
       "    .dataframe thead th {\n",
       "        text-align: right;\n",
       "    }\n",
       "</style>\n",
       "<table border=\"1\" class=\"dataframe\">\n",
       "  <thead>\n",
       "    <tr style=\"text-align: right;\">\n",
       "      <th></th>\n",
       "      <th>RowNumber</th>\n",
       "      <th>CustomerId</th>\n",
       "      <th>Surname</th>\n",
       "      <th>CreditScore</th>\n",
       "      <th>Geography</th>\n",
       "      <th>Gender</th>\n",
       "      <th>Age</th>\n",
       "      <th>Tenure</th>\n",
       "      <th>Balance</th>\n",
       "      <th>NumOfProducts</th>\n",
       "      <th>HasCrCard</th>\n",
       "      <th>IsActiveMember</th>\n",
       "      <th>EstimatedSalary</th>\n",
       "      <th>Exited</th>\n",
       "    </tr>\n",
       "  </thead>\n",
       "  <tbody>\n",
       "    <tr>\n",
       "      <th>6787</th>\n",
       "      <td>6788</td>\n",
       "      <td>15596074</td>\n",
       "      <td>Keating</td>\n",
       "      <td>502</td>\n",
       "      <td>France</td>\n",
       "      <td>Male</td>\n",
       "      <td>37</td>\n",
       "      <td>10.0</td>\n",
       "      <td>0.00</td>\n",
       "      <td>1</td>\n",
       "      <td>1</td>\n",
       "      <td>1</td>\n",
       "      <td>76642.68</td>\n",
       "      <td>0</td>\n",
       "    </tr>\n",
       "    <tr>\n",
       "      <th>4664</th>\n",
       "      <td>4665</td>\n",
       "      <td>15580719</td>\n",
       "      <td>Davis</td>\n",
       "      <td>697</td>\n",
       "      <td>France</td>\n",
       "      <td>Female</td>\n",
       "      <td>23</td>\n",
       "      <td>10.0</td>\n",
       "      <td>0.00</td>\n",
       "      <td>2</td>\n",
       "      <td>1</td>\n",
       "      <td>1</td>\n",
       "      <td>79734.23</td>\n",
       "      <td>0</td>\n",
       "    </tr>\n",
       "    <tr>\n",
       "      <th>808</th>\n",
       "      <td>809</td>\n",
       "      <td>15708917</td>\n",
       "      <td>Martin</td>\n",
       "      <td>598</td>\n",
       "      <td>Germany</td>\n",
       "      <td>Male</td>\n",
       "      <td>53</td>\n",
       "      <td>10.0</td>\n",
       "      <td>167772.96</td>\n",
       "      <td>1</td>\n",
       "      <td>1</td>\n",
       "      <td>1</td>\n",
       "      <td>136886.86</td>\n",
       "      <td>0</td>\n",
       "    </tr>\n",
       "    <tr>\n",
       "      <th>810</th>\n",
       "      <td>811</td>\n",
       "      <td>15699430</td>\n",
       "      <td>Davide</td>\n",
       "      <td>618</td>\n",
       "      <td>France</td>\n",
       "      <td>Female</td>\n",
       "      <td>35</td>\n",
       "      <td>10.0</td>\n",
       "      <td>0.00</td>\n",
       "      <td>2</td>\n",
       "      <td>1</td>\n",
       "      <td>0</td>\n",
       "      <td>180439.75</td>\n",
       "      <td>0</td>\n",
       "    </tr>\n",
       "    <tr>\n",
       "      <th>9144</th>\n",
       "      <td>9145</td>\n",
       "      <td>15731463</td>\n",
       "      <td>Gboliwe</td>\n",
       "      <td>818</td>\n",
       "      <td>Germany</td>\n",
       "      <td>Male</td>\n",
       "      <td>43</td>\n",
       "      <td>10.0</td>\n",
       "      <td>105301.50</td>\n",
       "      <td>1</td>\n",
       "      <td>1</td>\n",
       "      <td>1</td>\n",
       "      <td>78941.59</td>\n",
       "      <td>0</td>\n",
       "    </tr>\n",
       "    <tr>\n",
       "      <th>...</th>\n",
       "      <td>...</td>\n",
       "      <td>...</td>\n",
       "      <td>...</td>\n",
       "      <td>...</td>\n",
       "      <td>...</td>\n",
       "      <td>...</td>\n",
       "      <td>...</td>\n",
       "      <td>...</td>\n",
       "      <td>...</td>\n",
       "      <td>...</td>\n",
       "      <td>...</td>\n",
       "      <td>...</td>\n",
       "      <td>...</td>\n",
       "      <td>...</td>\n",
       "    </tr>\n",
       "    <tr>\n",
       "      <th>9944</th>\n",
       "      <td>9945</td>\n",
       "      <td>15703923</td>\n",
       "      <td>Cameron</td>\n",
       "      <td>744</td>\n",
       "      <td>Germany</td>\n",
       "      <td>Male</td>\n",
       "      <td>41</td>\n",
       "      <td>NaN</td>\n",
       "      <td>190409.34</td>\n",
       "      <td>2</td>\n",
       "      <td>1</td>\n",
       "      <td>1</td>\n",
       "      <td>138361.48</td>\n",
       "      <td>0</td>\n",
       "    </tr>\n",
       "    <tr>\n",
       "      <th>9956</th>\n",
       "      <td>9957</td>\n",
       "      <td>15707861</td>\n",
       "      <td>Nucci</td>\n",
       "      <td>520</td>\n",
       "      <td>France</td>\n",
       "      <td>Female</td>\n",
       "      <td>46</td>\n",
       "      <td>NaN</td>\n",
       "      <td>85216.61</td>\n",
       "      <td>1</td>\n",
       "      <td>1</td>\n",
       "      <td>0</td>\n",
       "      <td>117369.52</td>\n",
       "      <td>1</td>\n",
       "    </tr>\n",
       "    <tr>\n",
       "      <th>9964</th>\n",
       "      <td>9965</td>\n",
       "      <td>15642785</td>\n",
       "      <td>Douglas</td>\n",
       "      <td>479</td>\n",
       "      <td>France</td>\n",
       "      <td>Male</td>\n",
       "      <td>34</td>\n",
       "      <td>NaN</td>\n",
       "      <td>117593.48</td>\n",
       "      <td>2</td>\n",
       "      <td>0</td>\n",
       "      <td>0</td>\n",
       "      <td>113308.29</td>\n",
       "      <td>0</td>\n",
       "    </tr>\n",
       "    <tr>\n",
       "      <th>9985</th>\n",
       "      <td>9986</td>\n",
       "      <td>15586914</td>\n",
       "      <td>Nepean</td>\n",
       "      <td>659</td>\n",
       "      <td>France</td>\n",
       "      <td>Male</td>\n",
       "      <td>36</td>\n",
       "      <td>NaN</td>\n",
       "      <td>123841.49</td>\n",
       "      <td>2</td>\n",
       "      <td>1</td>\n",
       "      <td>0</td>\n",
       "      <td>96833.00</td>\n",
       "      <td>0</td>\n",
       "    </tr>\n",
       "    <tr>\n",
       "      <th>9999</th>\n",
       "      <td>10000</td>\n",
       "      <td>15628319</td>\n",
       "      <td>Walker</td>\n",
       "      <td>792</td>\n",
       "      <td>France</td>\n",
       "      <td>Female</td>\n",
       "      <td>28</td>\n",
       "      <td>NaN</td>\n",
       "      <td>130142.79</td>\n",
       "      <td>1</td>\n",
       "      <td>1</td>\n",
       "      <td>0</td>\n",
       "      <td>38190.78</td>\n",
       "      <td>0</td>\n",
       "    </tr>\n",
       "  </tbody>\n",
       "</table>\n",
       "<p>10000 rows × 14 columns</p>\n",
       "</div>"
      ],
      "text/plain": [
       "      RowNumber  CustomerId  Surname  CreditScore Geography  Gender  Age  \\\n",
       "6787       6788    15596074  Keating          502    France    Male   37   \n",
       "4664       4665    15580719    Davis          697    France  Female   23   \n",
       "808         809    15708917   Martin          598   Germany    Male   53   \n",
       "810         811    15699430   Davide          618    France  Female   35   \n",
       "9144       9145    15731463  Gboliwe          818   Germany    Male   43   \n",
       "...         ...         ...      ...          ...       ...     ...  ...   \n",
       "9944       9945    15703923  Cameron          744   Germany    Male   41   \n",
       "9956       9957    15707861    Nucci          520    France  Female   46   \n",
       "9964       9965    15642785  Douglas          479    France    Male   34   \n",
       "9985       9986    15586914   Nepean          659    France    Male   36   \n",
       "9999      10000    15628319   Walker          792    France  Female   28   \n",
       "\n",
       "      Tenure    Balance  NumOfProducts  HasCrCard  IsActiveMember  \\\n",
       "6787    10.0       0.00              1          1               1   \n",
       "4664    10.0       0.00              2          1               1   \n",
       "808     10.0  167772.96              1          1               1   \n",
       "810     10.0       0.00              2          1               0   \n",
       "9144    10.0  105301.50              1          1               1   \n",
       "...      ...        ...            ...        ...             ...   \n",
       "9944     NaN  190409.34              2          1               1   \n",
       "9956     NaN   85216.61              1          1               0   \n",
       "9964     NaN  117593.48              2          0               0   \n",
       "9985     NaN  123841.49              2          1               0   \n",
       "9999     NaN  130142.79              1          1               0   \n",
       "\n",
       "      EstimatedSalary  Exited  \n",
       "6787         76642.68       0  \n",
       "4664         79734.23       0  \n",
       "808         136886.86       0  \n",
       "810         180439.75       0  \n",
       "9144         78941.59       0  \n",
       "...               ...     ...  \n",
       "9944        138361.48       0  \n",
       "9956        117369.52       1  \n",
       "9964        113308.29       0  \n",
       "9985         96833.00       0  \n",
       "9999         38190.78       0  \n",
       "\n",
       "[10000 rows x 14 columns]"
      ]
     },
     "metadata": {},
     "output_type": "display_data"
    }
   ],
   "source": [
    "display(df.sort_values('Tenure', ascending = False))"
   ]
  },
  {
   "cell_type": "code",
   "execution_count": 22,
   "metadata": {},
   "outputs": [
    {
     "data": {
      "text/plain": [
       "RowNumber            int64\n",
       "CustomerId           int64\n",
       "Surname             object\n",
       "CreditScore          int64\n",
       "Geography           object\n",
       "Gender              object\n",
       "Age                  int64\n",
       "Tenure             float64\n",
       "Balance            float64\n",
       "NumOfProducts        int64\n",
       "HasCrCard            int64\n",
       "IsActiveMember       int64\n",
       "EstimatedSalary    float64\n",
       "Exited               int64\n",
       "dtype: object"
      ]
     },
     "execution_count": 22,
     "metadata": {},
     "output_type": "execute_result"
    }
   ],
   "source": [
    "df.dtypes"
   ]
  },
  {
   "cell_type": "markdown",
   "metadata": {},
   "source": [
    "**Data Review**\n",
    "\n",
    "- The dataset has 100000 rows of customers and 14 columns of identifiers and consumer info related to each of the customers. \n",
    "\n",
    "Features:\n",
    "\n",
    "- RowNumber — data string index\n",
    "- CustomerId — unique customer identifier\n",
    "- Surname — surname\n",
    "- CreditScore — credit score\n",
    "- Geography — country of residence\n",
    "- Gender — gender\n",
    "- Age — age\n",
    "- Tenure — period of maturation for a customer’s fixed deposit (years)\n",
    "- Balance — account balance\n",
    "- NumOfProducts — number of banking products used by the customer\n",
    "- HasCrCard — customer has a credit card\n",
    "- IsActiveMember — customer’s activeness\n",
    "- EstimatedSalary — estimated salary\n",
    "\n",
    "Target:\n",
    "- Exited — сustomer has left\n",
    "\n",
    "**Data Preprocessing to be done:**\n",
    "- Replace NaN with mean of the 'Tenure' column. The number of missing values is 10% and too high to drop, however, due to the low range of possibilities, the lack of outliers will not effect the mean. \n",
    "- The 'RowNumber' , 'CustomerId' and 'Surname' features provide no information in predicting potential leaving customers and thus will be dropped.\n",
    "- The categorical features 'Geography' and 'Gender' will be transformed into numerical features before model development.\n",
    "- Rename column names using the snake case convention."
   ]
  },
  {
   "cell_type": "code",
   "execution_count": 23,
   "metadata": {},
   "outputs": [],
   "source": [
    "# Replacing NaN values in the 'Tenure' column with the mean of the column\n",
    "df['Tenure'] = df['Tenure'].fillna(df['Tenure'].mean())"
   ]
  },
  {
   "cell_type": "code",
   "execution_count": 24,
   "metadata": {},
   "outputs": [
    {
     "data": {
      "text/plain": [
       "RowNumber          0\n",
       "CustomerId         0\n",
       "Surname            0\n",
       "CreditScore        0\n",
       "Geography          0\n",
       "Gender             0\n",
       "Age                0\n",
       "Tenure             0\n",
       "Balance            0\n",
       "NumOfProducts      0\n",
       "HasCrCard          0\n",
       "IsActiveMember     0\n",
       "EstimatedSalary    0\n",
       "Exited             0\n",
       "dtype: int64"
      ]
     },
     "execution_count": 24,
     "metadata": {},
     "output_type": "execute_result"
    }
   ],
   "source": [
    "# Checking for Missing Values\n",
    "df.isnull().sum()"
   ]
  },
  {
   "cell_type": "code",
   "execution_count": 25,
   "metadata": {},
   "outputs": [],
   "source": [
    "# Rename the column names with snake case convention\n",
    "df.columns = [re.sub(r'(?<!^)(?=[A-Z])', '_', column).lower().replace(' ', '_') for column in df.columns]"
   ]
  },
  {
   "cell_type": "code",
   "execution_count": 26,
   "metadata": {},
   "outputs": [],
   "source": [
    "# Drop the unnecessary features row_number, customer_id and surname\n",
    "df = df.drop(columns=['row_number', 'customer_id', 'surname'])"
   ]
  },
  {
   "cell_type": "code",
   "execution_count": 27,
   "metadata": {},
   "outputs": [
    {
     "data": {
      "text/html": [
       "<div>\n",
       "<style scoped>\n",
       "    .dataframe tbody tr th:only-of-type {\n",
       "        vertical-align: middle;\n",
       "    }\n",
       "\n",
       "    .dataframe tbody tr th {\n",
       "        vertical-align: top;\n",
       "    }\n",
       "\n",
       "    .dataframe thead th {\n",
       "        text-align: right;\n",
       "    }\n",
       "</style>\n",
       "<table border=\"1\" class=\"dataframe\">\n",
       "  <thead>\n",
       "    <tr style=\"text-align: right;\">\n",
       "      <th></th>\n",
       "      <th>credit_score</th>\n",
       "      <th>geography</th>\n",
       "      <th>gender</th>\n",
       "      <th>age</th>\n",
       "      <th>tenure</th>\n",
       "      <th>balance</th>\n",
       "      <th>num_of_products</th>\n",
       "      <th>has_cr_card</th>\n",
       "      <th>is_active_member</th>\n",
       "      <th>estimated_salary</th>\n",
       "      <th>exited</th>\n",
       "    </tr>\n",
       "  </thead>\n",
       "  <tbody>\n",
       "    <tr>\n",
       "      <th>0</th>\n",
       "      <td>619</td>\n",
       "      <td>France</td>\n",
       "      <td>Female</td>\n",
       "      <td>42</td>\n",
       "      <td>2.0</td>\n",
       "      <td>0.00</td>\n",
       "      <td>1</td>\n",
       "      <td>1</td>\n",
       "      <td>1</td>\n",
       "      <td>101348.88</td>\n",
       "      <td>1</td>\n",
       "    </tr>\n",
       "    <tr>\n",
       "      <th>1</th>\n",
       "      <td>608</td>\n",
       "      <td>Spain</td>\n",
       "      <td>Female</td>\n",
       "      <td>41</td>\n",
       "      <td>1.0</td>\n",
       "      <td>83807.86</td>\n",
       "      <td>1</td>\n",
       "      <td>0</td>\n",
       "      <td>1</td>\n",
       "      <td>112542.58</td>\n",
       "      <td>0</td>\n",
       "    </tr>\n",
       "    <tr>\n",
       "      <th>2</th>\n",
       "      <td>502</td>\n",
       "      <td>France</td>\n",
       "      <td>Female</td>\n",
       "      <td>42</td>\n",
       "      <td>8.0</td>\n",
       "      <td>159660.80</td>\n",
       "      <td>3</td>\n",
       "      <td>1</td>\n",
       "      <td>0</td>\n",
       "      <td>113931.57</td>\n",
       "      <td>1</td>\n",
       "    </tr>\n",
       "    <tr>\n",
       "      <th>3</th>\n",
       "      <td>699</td>\n",
       "      <td>France</td>\n",
       "      <td>Female</td>\n",
       "      <td>39</td>\n",
       "      <td>1.0</td>\n",
       "      <td>0.00</td>\n",
       "      <td>2</td>\n",
       "      <td>0</td>\n",
       "      <td>0</td>\n",
       "      <td>93826.63</td>\n",
       "      <td>0</td>\n",
       "    </tr>\n",
       "    <tr>\n",
       "      <th>4</th>\n",
       "      <td>850</td>\n",
       "      <td>Spain</td>\n",
       "      <td>Female</td>\n",
       "      <td>43</td>\n",
       "      <td>2.0</td>\n",
       "      <td>125510.82</td>\n",
       "      <td>1</td>\n",
       "      <td>1</td>\n",
       "      <td>1</td>\n",
       "      <td>79084.10</td>\n",
       "      <td>0</td>\n",
       "    </tr>\n",
       "  </tbody>\n",
       "</table>\n",
       "</div>"
      ],
      "text/plain": [
       "   credit_score geography  gender  age  tenure    balance  num_of_products  \\\n",
       "0           619    France  Female   42     2.0       0.00                1   \n",
       "1           608     Spain  Female   41     1.0   83807.86                1   \n",
       "2           502    France  Female   42     8.0  159660.80                3   \n",
       "3           699    France  Female   39     1.0       0.00                2   \n",
       "4           850     Spain  Female   43     2.0  125510.82                1   \n",
       "\n",
       "   has_cr_card  is_active_member  estimated_salary  exited  \n",
       "0            1                 1         101348.88       1  \n",
       "1            0                 1         112542.58       0  \n",
       "2            1                 0         113931.57       1  \n",
       "3            0                 0          93826.63       0  \n",
       "4            1                 1          79084.10       0  "
      ]
     },
     "execution_count": 27,
     "metadata": {},
     "output_type": "execute_result"
    }
   ],
   "source": [
    "# Review Changes\n",
    "df.head()"
   ]
  },
  {
   "cell_type": "markdown",
   "metadata": {},
   "source": [
    "## Examine the balances of classes. \n",
    "\n",
    "Train the model withuot taking into account the imbalance. "
   ]
  },
  {
   "cell_type": "code",
   "execution_count": 28,
   "metadata": {},
   "outputs": [
    {
     "data": {
      "image/png": "[encoded data removed]",
      "text/plain": [
       "<Figure size 800x600 with 4 Axes>"
      ]
     },
     "metadata": {},
     "output_type": "display_data"
    }
   ],
   "source": [
    "# Plot histograms to show the distribution of numerical features data\n",
    "numerical_features = ['credit_score', 'age', 'balance', 'estimated_salary']\n",
    "\n",
    "sns.set_style('whitegrid')\n",
    "fig, axs = plt.subplots(2, 2, figsize=(8,6))\n",
    "\n",
    "plt.suptitle('Distribution of Data of Numerical Features', fontsize=16, fontweight='bold')\n",
    "\n",
    "for i in range(2):\n",
    "    for j in range(2):\n",
    "        sns.histplot(x=df[numerical_features[i*2 + j]], bins=20, color='steelblue', ax=axs[i][j])\n",
    "        axs[i][j].set_title(numerical_features[i*2 + j], fontsize=14, fontweight='bold')\n",
    "        axs[i][j].set_ylabel('Number of Customers')\n",
    "\n",
    "axs[0][0].set_xlabel('Credit Score')\n",
    "axs[0][1].set_xlabel('Age')\n",
    "axs[1][0].set_xlabel('Balance')\n",
    "axs[1][1].set_xlabel('Estimated Salary')\n",
    "\n",
    "plt.tight_layout()\n",
    "plt.show()"
   ]
  },
  {
   "cell_type": "markdown",
   "metadata": {},
   "source": [
    "**Data Analysis**\n",
    " The distribution of 'balance' data is normal but I will note that there is a large amount of zero values. The distribution of 'age' data is heavily right-skewed, while the distribution of 'credit score' is slighltly left-skewed. "
   ]
  },
  {
   "cell_type": "code",
   "execution_count": 29,
   "metadata": {},
   "outputs": [
    {
     "data": {
      "text/html": [
       "<div>\n",
       "<style scoped>\n",
       "    .dataframe tbody tr th:only-of-type {\n",
       "        vertical-align: middle;\n",
       "    }\n",
       "\n",
       "    .dataframe tbody tr th {\n",
       "        vertical-align: top;\n",
       "    }\n",
       "\n",
       "    .dataframe thead th {\n",
       "        text-align: right;\n",
       "    }\n",
       "</style>\n",
       "<table border=\"1\" class=\"dataframe\">\n",
       "  <thead>\n",
       "    <tr style=\"text-align: right;\">\n",
       "      <th></th>\n",
       "      <th>credit_score</th>\n",
       "      <th>age</th>\n",
       "      <th>tenure</th>\n",
       "      <th>balance</th>\n",
       "      <th>num_of_products</th>\n",
       "      <th>has_cr_card</th>\n",
       "      <th>is_active_member</th>\n",
       "      <th>estimated_salary</th>\n",
       "      <th>exited</th>\n",
       "      <th>geography_Germany</th>\n",
       "      <th>geography_Spain</th>\n",
       "      <th>gender_Male</th>\n",
       "    </tr>\n",
       "  </thead>\n",
       "  <tbody>\n",
       "    <tr>\n",
       "      <th>0</th>\n",
       "      <td>619</td>\n",
       "      <td>42</td>\n",
       "      <td>2.0</td>\n",
       "      <td>0.00</td>\n",
       "      <td>1</td>\n",
       "      <td>1</td>\n",
       "      <td>1</td>\n",
       "      <td>101348.88</td>\n",
       "      <td>1</td>\n",
       "      <td>0</td>\n",
       "      <td>0</td>\n",
       "      <td>0</td>\n",
       "    </tr>\n",
       "    <tr>\n",
       "      <th>1</th>\n",
       "      <td>608</td>\n",
       "      <td>41</td>\n",
       "      <td>1.0</td>\n",
       "      <td>83807.86</td>\n",
       "      <td>1</td>\n",
       "      <td>0</td>\n",
       "      <td>1</td>\n",
       "      <td>112542.58</td>\n",
       "      <td>0</td>\n",
       "      <td>0</td>\n",
       "      <td>1</td>\n",
       "      <td>0</td>\n",
       "    </tr>\n",
       "    <tr>\n",
       "      <th>2</th>\n",
       "      <td>502</td>\n",
       "      <td>42</td>\n",
       "      <td>8.0</td>\n",
       "      <td>159660.80</td>\n",
       "      <td>3</td>\n",
       "      <td>1</td>\n",
       "      <td>0</td>\n",
       "      <td>113931.57</td>\n",
       "      <td>1</td>\n",
       "      <td>0</td>\n",
       "      <td>0</td>\n",
       "      <td>0</td>\n",
       "    </tr>\n",
       "    <tr>\n",
       "      <th>3</th>\n",
       "      <td>699</td>\n",
       "      <td>39</td>\n",
       "      <td>1.0</td>\n",
       "      <td>0.00</td>\n",
       "      <td>2</td>\n",
       "      <td>0</td>\n",
       "      <td>0</td>\n",
       "      <td>93826.63</td>\n",
       "      <td>0</td>\n",
       "      <td>0</td>\n",
       "      <td>0</td>\n",
       "      <td>0</td>\n",
       "    </tr>\n",
       "    <tr>\n",
       "      <th>4</th>\n",
       "      <td>850</td>\n",
       "      <td>43</td>\n",
       "      <td>2.0</td>\n",
       "      <td>125510.82</td>\n",
       "      <td>1</td>\n",
       "      <td>1</td>\n",
       "      <td>1</td>\n",
       "      <td>79084.10</td>\n",
       "      <td>0</td>\n",
       "      <td>0</td>\n",
       "      <td>1</td>\n",
       "      <td>0</td>\n",
       "    </tr>\n",
       "  </tbody>\n",
       "</table>\n",
       "</div>"
      ],
      "text/plain": [
       "   credit_score  age  tenure    balance  num_of_products  has_cr_card  \\\n",
       "0           619   42     2.0       0.00                1            1   \n",
       "1           608   41     1.0   83807.86                1            0   \n",
       "2           502   42     8.0  159660.80                3            1   \n",
       "3           699   39     1.0       0.00                2            0   \n",
       "4           850   43     2.0  125510.82                1            1   \n",
       "\n",
       "   is_active_member  estimated_salary  exited  geography_Germany  \\\n",
       "0                 1         101348.88       1                  0   \n",
       "1                 1         112542.58       0                  0   \n",
       "2                 0         113931.57       1                  0   \n",
       "3                 0          93826.63       0                  0   \n",
       "4                 1          79084.10       0                  0   \n",
       "\n",
       "   geography_Spain  gender_Male  \n",
       "0                0            0  \n",
       "1                1            0  \n",
       "2                0            0  \n",
       "3                0            0  \n",
       "4                1            0  "
      ]
     },
     "execution_count": 29,
     "metadata": {},
     "output_type": "execute_result"
    }
   ],
   "source": [
    "# One Hot Encoding the data while avoiding the dummy trap\n",
    "data = pd.get_dummies(data=df, drop_first=True)\n",
    "data.head()"
   ]
  },
  {
   "cell_type": "code",
   "execution_count": 30,
   "metadata": {},
   "outputs": [],
   "source": [
    "# Importing Train-Test-Split from SKLearn Library\n",
    "from sklearn.model_selection import train_test_split\n",
    "\n",
    "train_valid, test = train_test_split(data, test_size=0.2)\n",
    "train, valid = train_test_split(train_valid, test_size=0.25)\n",
    "\n",
    "# Training Data Split\n",
    "features_train = train.drop(['exited'], axis=1)\n",
    "target_train = train['exited']\n",
    "\n",
    "# Validation Data Split\n",
    "features_valid = valid.drop(['exited'], axis=1)\n",
    "target_valid = valid['exited']\n",
    "\n",
    "# Test Data Split\n",
    "features_test = test.drop(['exited'], axis=1)\n",
    "target_test = test['exited']"
   ]
  },
  {
   "cell_type": "code",
   "execution_count": 31,
   "metadata": {},
   "outputs": [
    {
     "name": "stdout",
     "output_type": "stream",
     "text": [
      "(6000, 11)\n",
      "(2000, 11)\n",
      "(2000, 11)\n"
     ]
    }
   ],
   "source": [
    "print(features_train.shape)\n",
    "print(features_valid.shape)\n",
    "print(features_test.shape)"
   ]
  },
  {
   "cell_type": "code",
   "execution_count": 32,
   "metadata": {},
   "outputs": [
    {
     "name": "stdout",
     "output_type": "stream",
     "text": [
      "Balance of Classes:\n",
      "0    0.7963\n",
      "1    0.2037\n",
      "Name: exited, dtype: float64\n"
     ]
    },
    {
     "data": {
      "image/png": "[encoded data removed]",
      "text/plain": [
       "<Figure size 640x480 with 1 Axes>"
      ]
     },
     "metadata": {},
     "output_type": "display_data"
    }
   ],
   "source": [
    "# Examining Class Balances\n",
    "class_balance = data['exited'].value_counts(normalize=True)\n",
    "print('Balance of Classes:')\n",
    "print(class_balance)\n",
    "\n",
    "fig, ax = plt.subplots()\n",
    "\n",
    "bar_colors = ['tab:red', 'tab:blue']\n",
    "\n",
    "class_balance.plot.bar(ylabel='Percentage of Class', title='Class Imbalances of the Target', color=bar_colors)\n",
    "\n",
    "\n",
    "plt.show()"
   ]
  },
  {
   "cell_type": "code",
   "execution_count": 33,
   "metadata": {},
   "outputs": [
    {
     "name": "stdout",
     "output_type": "stream",
     "text": [
      "(6000, 11)\n",
      "(2000, 11)\n",
      "(2000, 11)\n"
     ]
    }
   ],
   "source": [
    "# Feature Scaling\n",
    "\n",
    "# Importing Standard Scaler\n",
    "from sklearn.preprocessing import StandardScaler\n",
    "\n",
    "numeric = ['credit_score', 'age', 'tenure', 'balance', 'estimated_salary']\n",
    "\n",
    "scaler = StandardScaler()\n",
    "scaler.fit(features_train[numeric])\n",
    "features_train[numeric] = scaler.transform(features_train[numeric])\n",
    "features_valid[numeric] = scaler.transform(features_valid[numeric])\n",
    "features_test[numeric] = scaler.transform(features_test[numeric])\n",
    "\n",
    "print(features_train.shape)\n",
    "print(features_valid.shape)\n",
    "print(features_test.shape)"
   ]
  },
  {
   "cell_type": "code",
   "execution_count": 34,
   "metadata": {},
   "outputs": [
    {
     "name": "stdout",
     "output_type": "stream",
     "text": [
      "Accuracy Score on Training Set: 0.8135\n",
      "Accuracy Score on Validation Set: 0.815\n",
      "F1 Score For Validation Set: 0.31734317343173435\n",
      "ROC-AUC Score: 0.7741064580457125\n"
     ]
    }
   ],
   "source": [
    "# Training Logistic Regression Model on OHE DataFrame\n",
    "\n",
    "\n",
    "# Initializing the model\n",
    "\n",
    "lr_model = LogisticRegression(random_state=12345, solver='liblinear')\n",
    "lr_model.fit(features_train, target_train) # Training model on training set\n",
    "score_train = lr_model.score(features_train, target_train) # Calculating accuracy score on training set\n",
    "score_valid = lr_model.score(features_valid, target_valid) # Calculating accuracy score on validation set\n",
    "lr_predicted_valid = lr_model.predict(features_valid)\n",
    "lr_probabilities_valid = lr_model.predict_proba(features_valid)\n",
    "precision, recall, thresholds = precision_recall_curve(target_valid, lr_probabilities_valid[:, 1])\n",
    "\n",
    "print('Accuracy Score on Training Set:', score_train)\n",
    "print('Accuracy Score on Validation Set:', score_valid)\n",
    "print('F1 Score For Validation Set:', f1_score(target_valid, lr_predicted_valid))\n",
    "print('ROC-AUC Score:', roc_auc_score(target_valid, lr_probabilities_valid[:, 1]))"
   ]
  },
  {
   "cell_type": "code",
   "execution_count": 35,
   "metadata": {},
   "outputs": [
    {
     "data": {
      "image/png": "[encoded data removed]",
      "text/plain": [
       "<Figure size 600x600 with 1 Axes>"
      ]
     },
     "metadata": {},
     "output_type": "display_data"
    }
   ],
   "source": [
    "# Plotting the Precision-Recall Curve\n",
    "lr_model = LogisticRegression(random_state=12345, solver='liblinear')\n",
    "lr_model.fit(features_train, target_train)\n",
    "\n",
    "\n",
    "\n",
    "lr_probabilities_valid = lr_model.predict_proba(features_valid)\n",
    "precision, recall, thresholds = precision_recall_curve(target_valid, lr_probabilities_valid[:, 1])\n",
    "\n",
    "plt.figure(figsize=(6, 6))\n",
    "plt.step(recall, precision, where='post')\n",
    "plt.xlabel('Recall')\n",
    "plt.ylabel('Precision')\n",
    "plt.ylim([0.0, 1.05])\n",
    "plt.xlim([0.0, 1.0])\n",
    "plt.title('Precision-Recall Curve')\n",
    "plt.show()"
   ]
  },
  {
   "cell_type": "code",
   "execution_count": 36,
   "metadata": {},
   "outputs": [
    {
     "data": {
      "image/png": "[encoded data removed]",
      "text/plain": [
       "<Figure size 640x480 with 1 Axes>"
      ]
     },
     "metadata": {},
     "output_type": "display_data"
    }
   ],
   "source": [
    "\n",
    "# Plotting ROC Curve for Regression Model\n",
    "\n",
    "# Importing ROC Curve\n",
    "from sklearn.metrics import roc_curve\n",
    "\n",
    "# Plotting an ROC Curve for the Regression Model\n",
    "lr_probabilities_one_valid = lr_probabilities_valid[:, 1]\n",
    "fpr, tpr, thresholds = roc_curve(target_valid, lr_probabilities_one_valid)\n",
    "\n",
    "plt.figure()\n",
    "plt.plot(fpr, tpr)\n",
    "plt.plot([0, 1], [0, 1], linestyle='--')\n",
    "plt.xlim([0.0, 1.0])\n",
    "plt.ylim([0.0, 1.0])\n",
    "plt.xlabel('False Positive Rate')\n",
    "plt.ylabel('True Positive Rate')\n",
    "plt.title('ROC curve')\n",
    "plt.show()"
   ]
  },
  {
   "cell_type": "code",
   "execution_count": 37,
   "metadata": {},
   "outputs": [
    {
     "name": "stdout",
     "output_type": "stream",
     "text": [
      "0.7741064580457125\n"
     ]
    }
   ],
   "source": [
    "# Calculating AUC-ROC\n",
    "auc_roc = roc_auc_score(target_valid, lr_probabilities_one_valid)\n",
    "print(auc_roc)"
   ]
  },
  {
   "cell_type": "code",
   "execution_count": 38,
   "metadata": {},
   "outputs": [
    {
     "name": "stdout",
     "output_type": "stream",
     "text": [
      "Max Depth = 1 F1 Score =  0.0 AUC Score =  0.7191670501610676\n",
      "Max Depth = 2 F1 Score =  0.5075445816186558 AUC Score =  0.7646003988341771\n",
      "Max Depth = 3 F1 Score =  0.40437158469945356 AUC Score =  0.8124750728639362\n",
      "Max Depth = 4 F1 Score =  0.5513016845329249 AUC Score =  0.8371414327350821\n",
      "Max Depth = 5 F1 Score =  0.5705614567526556 AUC Score =  0.8375295290688758\n",
      "Max Depth = 6 F1 Score =  0.5850746268656716 AUC Score =  0.848825740144194\n",
      "Max Depth = 7 F1 Score =  0.569277108433735 AUC Score =  0.850757017947538\n",
      "Max Depth = 8 F1 Score =  0.5867418899858956 AUC Score =  0.8277389170118116\n",
      "Max Depth = 9 F1 Score =  0.5603448275862069 AUC Score =  0.8036017794140207\n",
      "Max Depth = 10 F1 Score =  0.5650969529085873 AUC Score =  0.79159763767449\n"
     ]
    }
   ],
   "source": [
    "# Training Decision Tree Classifier on OHE DataFrame\n",
    "\n",
    "# Initializing Decision Tree Model\n",
    "for depth in range(1, 11):\n",
    "    tree_model = DecisionTreeClassifier(random_state=12345, max_depth=depth)\n",
    "    tree_model.fit(features_train, target_train)  # Training the Model on the training set\n",
    "    tree_predicted_valid = tree_model.predict(features_valid) # Get model predictions on validation set\n",
    "    tree_probabilities_valid = tree_model.predict_proba(features_valid) # Get model predictions on class probabilites\n",
    "    precision, recall, thresholds = precision_recall_curve(target_valid, tree_probabilities_valid[:, 1])\n",
    "    tree_f1 = f1_score(target_valid, tree_predicted_valid) # Calculate F1 Score on given depth\n",
    "    auc_score = roc_auc_score(target_valid, tree_probabilities_valid[:, 1]) # Calculate AUC Score on Given Depth\n",
    "    print('Max Depth =', depth, 'F1 Score = ', tree_f1, 'AUC Score = ', auc_score)\n",
    "    "
   ]
  },
  {
   "cell_type": "markdown",
   "metadata": {},
   "source": [
    "**A Decision Tree Model with a depth of 6 yielded the highest F1 score.**"
   ]
  },
  {
   "cell_type": "code",
   "execution_count": 39,
   "metadata": {},
   "outputs": [
    {
     "name": "stdout",
     "output_type": "stream",
     "text": [
      "F1 Score of the Best Model on the Validation Set: 0.5858895705521473 n_estimators = 98 Best Depth =  10\n",
      "AUC Score: 0.8741478754410185\n"
     ]
    }
   ],
   "source": [
    "# Training Random Forest Classifier on OHE DataFrame\n",
    "\n",
    "\n",
    "# Initializing the Model\n",
    "best_result = 0\n",
    "best_est = 0\n",
    "best_depth = 0\n",
    "\n",
    "for est in range(10, 120, 11):\n",
    "    for depth in range (1, 11):\n",
    "        rf_model = RandomForestClassifier(random_state=12345, n_estimators=est, max_depth=depth) # initialize model constructor with parameters random_state=12345 and n_estimators=est\n",
    "        rf_model.fit(features_train, target_train) # train model on training set\n",
    "        rf_predicted_valid = rf_model.predict(features_valid) # get model predictions on validation set\n",
    "        result = f1_score(target_valid, rf_predicted_valid)\n",
    "        rf_probabilities_valid = rf_model.predict_proba(features_valid)\n",
    "        precision, recall, thresholds = precision_recall_curve(target_valid, rf_probabilities_valid[:, 1])\n",
    "        if result > best_result:\n",
    "            best_result = result\n",
    "            best_est = est\n",
    "            best_depth = depth\n",
    "\n",
    "print('F1 Score of the Best Model on the Validation Set:', result, 'n_estimators =', best_est, 'Best Depth = ', best_depth)\n",
    "\n",
    "print('AUC Score:', roc_auc_score(target_valid, rf_probabilities_valid[:, 1]))"
   ]
  },
  {
   "cell_type": "markdown",
   "metadata": {},
   "source": [
    "**CONCLUSION**\n",
    "The model with the highest F1 score on the OHE data, without balancing the classes, was the Random Forest Classifer. It yielded a score of 0.59 and an ROC-AUC score of 0.86(rounded up) with a depth of 10. "
   ]
  },
  {
   "cell_type": "markdown",
   "metadata": {},
   "source": [
    "## Improving model quality by fixing class imbalances. "
   ]
  },
  {
   "cell_type": "code",
   "execution_count": 40,
   "metadata": {},
   "outputs": [
    {
     "name": "stdout",
     "output_type": "stream",
     "text": [
      "(4800, 11)\n",
      "(1200, 11)\n"
     ]
    }
   ],
   "source": [
    "# Fixing class imbalance through upsampling of the OHE data\n",
    "\n",
    "# Declaring four variables from the OHE data\n",
    "features_zeros = features_train[target_train == 0]\n",
    "features_ones = features_train[target_train == 1]\n",
    "target_zeros = target_train[target_train == 0]\n",
    "target_ones = target_train[target_train == 1]\n",
    "\n",
    "# Printing the shape of the four variables\n",
    "print(features_zeros.shape)\n",
    "print(features_ones.shape)"
   ]
  },
  {
   "cell_type": "code",
   "execution_count": 41,
   "metadata": {},
   "outputs": [
    {
     "name": "stdout",
     "output_type": "stream",
     "text": [
      "(8400, 11)\n",
      "(8400,)\n"
     ]
    }
   ],
   "source": [
    "# Shuffling the data\n",
    "\n",
    "# Importing shuffle function from sklearn\n",
    "from sklearn.utils import shuffle\n",
    "\n",
    "def upsample(features, target, repeat):\n",
    "    features_zeros = features[target == 0]\n",
    "    features_ones = features[target == 1]\n",
    "    target_zeros = target[target == 0]\n",
    "    target_ones = target[target == 1]\n",
    "    \n",
    "    features_upsampled = pd.concat( [features_zeros] +  [features_ones] * repeat  )\n",
    "    target_upsampled = pd.concat([target_zeros] + [target_ones] * repeat)\n",
    "    \n",
    "    features_upsampled, target_upsampled = shuffle(features_upsampled, target_upsampled, random_state=12345) \n",
    "    \n",
    "    return features_upsampled, target_upsampled\n",
    "\n",
    "# Passing the shuffled data through the upsample function\n",
    "features_upsampled, target_upsampled = upsample(features_train, target_train, 3)\n",
    "\n",
    "# Printing the sizes of the samples\n",
    "print(features_upsampled.shape)\n",
    "print(target_upsampled.shape)"
   ]
  },
  {
   "cell_type": "code",
   "execution_count": 42,
   "metadata": {},
   "outputs": [
    {
     "name": "stdout",
     "output_type": "stream",
     "text": [
      "Balance of Classes:\n",
      "0    0.571429\n",
      "1    0.428571\n",
      "Name: exited, dtype: float64\n"
     ]
    },
    {
     "data": {
      "image/png": "[encoded data removed]",
      "text/plain": [
       "<Figure size 640x480 with 1 Axes>"
      ]
     },
     "metadata": {},
     "output_type": "display_data"
    }
   ],
   "source": [
    "# Examining Class Balances after upsampling\n",
    "class_balance_upsampled = target_upsampled.value_counts(normalize=True)\n",
    "print('Balance of Classes:')\n",
    "print(class_balance_upsampled)\n",
    "\n",
    "fig, ax = plt.subplots()\n",
    "\n",
    "bar_colors = ['tab:red', 'tab:blue']\n",
    "\n",
    "class_balance_upsampled.plot.bar(ylabel='Percentage of Class', title='Class Imbalances of the Upsampled Target', color=bar_colors)\n",
    "\n",
    "\n",
    "plt.show()"
   ]
  },
  {
   "cell_type": "code",
   "execution_count": 43,
   "metadata": {},
   "outputs": [
    {
     "name": "stdout",
     "output_type": "stream",
     "text": [
      "F1 Score For Validation Set of Upsampled Model: 0.5035246727089627\n",
      "AUC Score For Upsampled Model: 0.7782527995091272\n"
     ]
    }
   ],
   "source": [
    "# Re-Training Logistic Regression model on Upsampled Data and Balanced Class Weight\n",
    "lr2_model = LogisticRegression(random_state=12345, solver='liblinear')\n",
    "lr2_model.fit(features_upsampled, target_upsampled)\n",
    "lr2_predicted_valid = lr2_model.predict(features_valid)\n",
    "lr2_probabilities_valid = lr2_model.predict_proba(features_valid)\n",
    "precision, recall, thresholds = precision_recall_curve(target_valid, lr2_probabilities_valid[:, 1])\n",
    "\n",
    "# Calculating AUC-ROC\n",
    "auc_roc = roc_auc_score(target_valid, lr2_probabilities_valid[:, 1])\n",
    "\n",
    "\n",
    "print('F1 Score For Validation Set of Upsampled Model:', f1_score(target_valid, lr2_predicted_valid))\n",
    "print('AUC Score For Upsampled Model:', auc_roc)"
   ]
  },
  {
   "cell_type": "code",
   "execution_count": 44,
   "metadata": {},
   "outputs": [
    {
     "name": "stdout",
     "output_type": "stream",
     "text": [
      "[[1257  333]\n",
      " [ 160  250]]\n",
      "Confusion Matrix for Logistic Regression Model:\n"
     ]
    },
    {
     "data": {
      "image/png": "[encoded data removed]",
      "text/plain": [
       "<Figure size 640x480 with 2 Axes>"
      ]
     },
     "metadata": {},
     "output_type": "display_data"
    }
   ],
   "source": [
    "# Importing Confusion Matrix\n",
    "from sklearn.metrics import confusion_matrix\n",
    "from sklearn.metrics import ConfusionMatrixDisplay\n",
    "\n",
    "# Printing CM for the Logistic Regression Model\n",
    "print(confusion_matrix(target_valid, lr2_predicted_valid))\n",
    "\n",
    "print('Confusion Matrix for Logistic Regression Model:')\n",
    "fig, ax = plt.subplots(figsize=(12, 8))\n",
    "plt.close()\n",
    "sns.set_context(\"notebook\", font_scale=.85)\n",
    "cm = confusion_matrix(target_valid, lr2_predicted_valid, labels=tree_model.classes_)\n",
    "disp = ConfusionMatrixDisplay(cm,display_labels=tree_model.classes_)\n",
    "disp.plot()\n",
    "plt.show()"
   ]
  },
  {
   "cell_type": "code",
   "execution_count": 45,
   "metadata": {},
   "outputs": [
    {
     "name": "stdout",
     "output_type": "stream",
     "text": [
      "F1 Score For Validation Set on Upsampled Data: 0.6166842661034847\n",
      "AUC Score for Validation Set on Upsampled Data: 0.79159763767449\n"
     ]
    }
   ],
   "source": [
    "# Re-Training Decision Tree Model on Upsampled Data with a max depth of 5 (as found above to yield highest F1 score)\n",
    "\n",
    "# Initializing Decision Tree Model\n",
    "tree2_model = DecisionTreeClassifier(random_state=12345, max_depth=7)\n",
    "tree2_model.fit(features_upsampled, target_upsampled)  # Training the Model on the upsampled data\n",
    "tree2_predicted_valid = tree2_model.predict(features_valid) # Get model predictions on validation set\n",
    "tree2_probabilities_valid = tree_model.predict_proba(features_valid)\n",
    "precision, recall, thresholds = precision_recall_curve(target_valid, tree2_probabilities_valid[:, 1])\n",
    "\n",
    "\n",
    "print('F1 Score For Validation Set on Upsampled Data:', f1_score(target_valid, tree2_predicted_valid))\n",
    "print('AUC Score for Validation Set on Upsampled Data:', roc_auc_score(target_valid, tree2_probabilities_valid[:, 1]))"
   ]
  },
  {
   "cell_type": "code",
   "execution_count": 46,
   "metadata": {},
   "outputs": [
    {
     "name": "stdout",
     "output_type": "stream",
     "text": [
      "F1 Score For Validation Set on Upsampled Data: 0.6294536817102138\n"
     ]
    }
   ],
   "source": [
    "# Re-Training Random Forest Model on Upsampled Data with n_estimators = 98 and max depth = 10 as found above to yield highest F1 score\n",
    "\n",
    "rf2_model = RandomForestClassifier(random_state=12345, n_estimators=71, max_depth=10) # initialize model constructor with parameters random_state=12345 and n_estimators=est\n",
    "rf2_model.fit(features_upsampled, target_upsampled) # train model on upsampled data\n",
    "rf2_predicted_valid = rf2_model.predict(features_valid) # get model predictions on validation set\n",
    "\n",
    "print('F1 Score For Validation Set on Upsampled Data:', f1_score(target_valid, rf2_predicted_valid))"
   ]
  },
  {
   "cell_type": "code",
   "execution_count": 47,
   "metadata": {},
   "outputs": [
    {
     "name": "stdout",
     "output_type": "stream",
     "text": [
      "(1680, 11)\n",
      "(1680,)\n"
     ]
    }
   ],
   "source": [
    "# Downsampling the OHE data\n",
    "\n",
    "def downsample(features, target, fraction):\n",
    "    features_zeros = features[target == 0]\n",
    "    features_ones = features[target == 1]\n",
    "    target_zeros = target[target == 0]\n",
    "    target_ones = target[target == 1]\n",
    "    \n",
    "    features_downsampled = pd.concat([features_zeros.sample(frac=fraction, random_state=12345)] + [features_ones])\n",
    "    \n",
    "    target_downsampled = pd.concat([target_zeros.sample(frac=fraction, random_state=12345)] + [target_ones])\n",
    "    \n",
    "    features_downsampled, target_downsampled = shuffle(features_downsampled, target_downsampled, random_state=12345)\n",
    "    \n",
    "    return features_downsampled, target_downsampled\n",
    "\n",
    "features_downsampled, target_downsampled = downsample(features_train, target_train, 0.1)\n",
    "\n",
    "print(features_downsampled.shape)\n",
    "print(target_downsampled.shape)"
   ]
  },
  {
   "cell_type": "code",
   "execution_count": 48,
   "metadata": {},
   "outputs": [
    {
     "name": "stdout",
     "output_type": "stream",
     "text": [
      "Balance of Classes:\n",
      "1    0.714286\n",
      "0    0.285714\n",
      "Name: exited, dtype: float64\n"
     ]
    },
    {
     "data": {
      "image/png": "[encoded data removed]",
      "text/plain": [
       "<Figure size 640x480 with 1 Axes>"
      ]
     },
     "metadata": {},
     "output_type": "display_data"
    }
   ],
   "source": [
    "# Examining Class Balances after downsampling\n",
    "class_balance_downsampled = target_downsampled.value_counts(normalize=True)\n",
    "print('Balance of Classes:')\n",
    "print(class_balance_downsampled)\n",
    "\n",
    "fig, ax = plt.subplots()\n",
    "\n",
    "bar_colors = ['tab:red', 'tab:blue']\n",
    "\n",
    "class_balance_downsampled.plot.bar(ylabel='Percentage of Class', title='Class Imbalances of the Target', color=bar_colors)\n",
    "\n",
    "\n",
    "plt.show()"
   ]
  },
  {
   "cell_type": "code",
   "execution_count": 49,
   "metadata": {},
   "outputs": [
    {
     "name": "stdout",
     "output_type": "stream",
     "text": [
      "F1 of the Validation Set on Downsampled Data: 0.4239428885227897\n"
     ]
    }
   ],
   "source": [
    "# 3rd Iteration of Logistic Regression Model, on Downsampled Data\n",
    "\n",
    "# Initializing the model\n",
    "lr3_model = LogisticRegression(random_state=12345, solver='liblinear')\n",
    "lr3_model.fit(features_downsampled, target_downsampled)\n",
    "lr3_predicted_valid = lr3_model.predict(features_valid)\n",
    "\n",
    "print('F1 of the Validation Set on Downsampled Data:', f1_score(target_valid, lr3_predicted_valid))"
   ]
  },
  {
   "cell_type": "code",
   "execution_count": 50,
   "metadata": {},
   "outputs": [
    {
     "name": "stdout",
     "output_type": "stream",
     "text": [
      "F1 Score For Validation Set: 0.4754200373366521\n"
     ]
    }
   ],
   "source": [
    "# 3rd Iteration of Random Forest Model, on Downsampled Data\n",
    "\n",
    "rf3_model = RandomForestClassifier(random_state=12345, n_estimators=76, max_depth=10) # initialize model constructor with parameters random_state=12345 and n_estimators=est\n",
    "rf3_model.fit(features_downsampled, target_downsampled) # train model on upsampled data\n",
    "rf3_predicted_valid = rf3_model.predict(features_valid) # get model predictions on validation set\n",
    "\n",
    "print('F1 Score For Validation Set:', f1_score(target_valid, rf3_predicted_valid))"
   ]
  },
  {
   "cell_type": "markdown",
   "metadata": {},
   "source": [
    "**CONCLUSION** Upsampling yeilded better results than downsampling on the decision tree model. The model that produced highest F1 score was the Random Forest Classifer when upsampled. This will be the model I use for final testing. "
   ]
  },
  {
   "cell_type": "markdown",
   "metadata": {},
   "source": [
    "## Perform Final Testing\n"
   ]
  },
  {
   "cell_type": "code",
   "execution_count": 51,
   "metadata": {},
   "outputs": [
    {
     "data": {
      "text/plain": [
       "RandomForestClassifier(max_depth=10, random_state=12345)"
      ]
     },
     "execution_count": 51,
     "metadata": {},
     "output_type": "execute_result"
    }
   ],
   "source": [
    "features_full_train = pd.concat([features_train, features_valid])\n",
    "target_full_train = pd.concat([target_train, target_valid])\n",
    "\n",
    "features_upsampled, target_upsampled = upsample(features_full_train, target_full_train, 3)\n",
    "\n",
    "final_model = RandomForestClassifier(random_state=12345, n_estimators=100, max_depth=10)\n",
    "final_model.fit(features_upsampled, target_upsampled)"
   ]
  },
  {
   "cell_type": "code",
   "execution_count": 52,
   "metadata": {},
   "outputs": [
    {
     "name": "stdout",
     "output_type": "stream",
     "text": [
      "F1 Score of the Final Model: 0.6220204313280363\n",
      "ROC-AUC Score of the Final Model: 0.854238161242632\n"
     ]
    }
   ],
   "source": [
    "predict = final_model.predict(features_test)\n",
    "predict_test = final_model.predict_proba(features_test)[:,1]\n",
    "\n",
    "print('F1 Score of the Final Model:', f1_score(target_test, predict))\n",
    "print('ROC-AUC Score of the Final Model:', roc_auc_score(target_test,predict_test))"
   ]
  },
  {
   "cell_type": "markdown",
   "metadata": {},
   "source": [
    "## Overall Conclusion\n",
    "\n",
    "Based on my examination of the balance of classes and exploration of improving the quality of the model, I suggest that Beta Bank use the Random Forest Classifer model on upsampled data to predict custoner churn. The final ROC-AUC Score was 85% and the F1 came in at 0.622. "
   ]
  },
  {
   "cell_type": "code",
   "execution_count": null,
   "metadata": {},
   "outputs": [],
   "source": []
  }
 ],
 "metadata": {
  "ExecuteTimeLog": [
   {
    "duration": 1007,
    "start_time": "2024-12-03T21:54:29.086Z"
   },
   {
    "duration": 1999,
    "start_time": "2024-12-03T21:54:50.106Z"
   },
   {
    "duration": 417,
    "start_time": "2024-12-03T21:55:02.756Z"
   },
   {
    "duration": 62,
    "start_time": "2024-12-03T21:55:30.493Z"
   },
   {
    "duration": 2,
    "start_time": "2024-12-03T21:55:47.049Z"
   },
   {
    "duration": 60,
    "start_time": "2024-12-03T21:55:47.056Z"
   },
   {
    "duration": 71,
    "start_time": "2024-12-03T21:56:26.254Z"
   },
   {
    "duration": 3,
    "start_time": "2024-12-03T21:56:39.852Z"
   },
   {
    "duration": 59,
    "start_time": "2024-12-03T21:57:47.570Z"
   },
   {
    "duration": 25,
    "start_time": "2024-12-03T21:59:40.389Z"
   },
   {
    "duration": 46,
    "start_time": "2024-12-03T22:00:35.918Z"
   },
   {
    "duration": 8,
    "start_time": "2024-12-03T22:04:27.983Z"
   },
   {
    "duration": 7,
    "start_time": "2024-12-03T22:04:37.709Z"
   },
   {
    "duration": 14,
    "start_time": "2024-12-03T22:04:54.819Z"
   },
   {
    "duration": 18,
    "start_time": "2024-12-03T22:05:11.740Z"
   },
   {
    "duration": 5,
    "start_time": "2024-12-03T22:05:50.499Z"
   },
   {
    "duration": 4,
    "start_time": "2024-12-03T22:17:00.223Z"
   },
   {
    "duration": 6,
    "start_time": "2024-12-03T22:17:07.907Z"
   },
   {
    "duration": 652,
    "start_time": "2024-12-03T22:19:12.803Z"
   },
   {
    "duration": 13,
    "start_time": "2024-12-03T22:19:19.899Z"
   },
   {
    "duration": 132,
    "start_time": "2024-12-03T22:19:27.550Z"
   },
   {
    "duration": 3,
    "start_time": "2024-12-03T22:20:44.095Z"
   },
   {
    "duration": 13,
    "start_time": "2024-12-03T22:20:52.935Z"
   },
   {
    "duration": 4,
    "start_time": "2024-12-03T22:21:00.334Z"
   },
   {
    "duration": 9,
    "start_time": "2024-12-03T22:21:19.092Z"
   },
   {
    "duration": 23,
    "start_time": "2024-12-03T22:27:23.120Z"
   },
   {
    "duration": 370,
    "start_time": "2024-12-03T22:28:12.139Z"
   },
   {
    "duration": 670,
    "start_time": "2024-12-03T22:28:24.973Z"
   },
   {
    "duration": 395,
    "start_time": "2024-12-03T22:33:39.650Z"
   },
   {
    "duration": 375,
    "start_time": "2024-12-03T22:34:04.439Z"
   },
   {
    "duration": 18,
    "start_time": "2024-12-03T22:34:52.021Z"
   },
   {
    "duration": 18,
    "start_time": "2024-12-03T22:35:00.583Z"
   },
   {
    "duration": 3,
    "start_time": "2024-12-03T22:35:35.566Z"
   },
   {
    "duration": 6,
    "start_time": "2024-12-03T22:35:38.611Z"
   },
   {
    "duration": 25,
    "start_time": "2024-12-03T22:35:38.619Z"
   },
   {
    "duration": 43,
    "start_time": "2024-12-03T22:35:38.645Z"
   },
   {
    "duration": 12,
    "start_time": "2024-12-03T22:35:38.690Z"
   },
   {
    "duration": 7,
    "start_time": "2024-12-03T22:35:38.704Z"
   },
   {
    "duration": 18,
    "start_time": "2024-12-03T22:35:38.712Z"
   },
   {
    "duration": 16,
    "start_time": "2024-12-03T22:35:38.732Z"
   },
   {
    "duration": 4,
    "start_time": "2024-12-03T22:35:38.749Z"
   },
   {
    "duration": 32,
    "start_time": "2024-12-03T22:35:38.755Z"
   },
   {
    "duration": 7,
    "start_time": "2024-12-03T22:35:38.789Z"
   },
   {
    "duration": 3,
    "start_time": "2024-12-03T22:35:38.799Z"
   },
   {
    "duration": 4,
    "start_time": "2024-12-03T22:35:38.804Z"
   },
   {
    "duration": 11,
    "start_time": "2024-12-03T22:35:38.810Z"
   },
   {
    "duration": 782,
    "start_time": "2024-12-03T22:35:38.823Z"
   },
   {
    "duration": 23,
    "start_time": "2024-12-03T22:35:39.609Z"
   },
   {
    "duration": 39,
    "start_time": "2024-12-03T22:35:39.635Z"
   },
   {
    "duration": 9,
    "start_time": "2024-12-03T22:35:55.303Z"
   },
   {
    "duration": 3,
    "start_time": "2024-12-03T22:36:07.370Z"
   },
   {
    "duration": 86,
    "start_time": "2024-12-03T22:36:21.654Z"
   },
   {
    "duration": 111,
    "start_time": "2024-12-03T22:36:35.570Z"
   },
   {
    "duration": 117,
    "start_time": "2024-12-03T22:37:15.099Z"
   },
   {
    "duration": 32,
    "start_time": "2024-12-03T22:38:01.053Z"
   },
   {
    "duration": 18,
    "start_time": "2024-12-03T22:38:12.801Z"
   },
   {
    "duration": 193,
    "start_time": "2024-12-03T22:39:29.393Z"
   },
   {
    "duration": 14,
    "start_time": "2024-12-03T22:39:29.588Z"
   },
   {
    "duration": 48,
    "start_time": "2024-12-03T22:39:29.605Z"
   },
   {
    "duration": 9,
    "start_time": "2024-12-03T22:39:29.656Z"
   },
   {
    "duration": 6,
    "start_time": "2024-12-03T22:39:29.686Z"
   },
   {
    "duration": 13,
    "start_time": "2024-12-03T22:39:29.693Z"
   },
   {
    "duration": 19,
    "start_time": "2024-12-03T22:39:29.708Z"
   },
   {
    "duration": 6,
    "start_time": "2024-12-03T22:39:29.729Z"
   },
   {
    "duration": 3,
    "start_time": "2024-12-03T22:39:29.737Z"
   },
   {
    "duration": 8,
    "start_time": "2024-12-03T22:39:29.743Z"
   },
   {
    "duration": 6,
    "start_time": "2024-12-03T22:39:29.787Z"
   },
   {
    "duration": 5,
    "start_time": "2024-12-03T22:39:29.797Z"
   },
   {
    "duration": 9,
    "start_time": "2024-12-03T22:39:29.804Z"
   },
   {
    "duration": 631,
    "start_time": "2024-12-03T22:39:29.815Z"
   },
   {
    "duration": 15,
    "start_time": "2024-12-03T22:39:30.448Z"
   },
   {
    "duration": 25,
    "start_time": "2024-12-03T22:39:30.465Z"
   },
   {
    "duration": 4,
    "start_time": "2024-12-03T22:39:30.492Z"
   },
   {
    "duration": 117,
    "start_time": "2024-12-03T22:39:30.498Z"
   },
   {
    "duration": 23,
    "start_time": "2024-12-03T22:39:30.617Z"
   },
   {
    "duration": 62,
    "start_time": "2024-12-03T22:39:30.641Z"
   },
   {
    "duration": 22,
    "start_time": "2024-12-03T22:39:54.597Z"
   },
   {
    "duration": 249,
    "start_time": "2024-12-03T22:40:05.207Z"
   },
   {
    "duration": 131,
    "start_time": "2024-12-03T22:40:24.082Z"
   },
   {
    "duration": 5,
    "start_time": "2024-12-03T22:40:35.402Z"
   },
   {
    "duration": 19,
    "start_time": "2024-12-03T22:41:08.655Z"
   },
   {
    "duration": 15,
    "start_time": "2024-12-03T22:41:13.947Z"
   },
   {
    "duration": 15,
    "start_time": "2024-12-03T22:41:13.964Z"
   },
   {
    "duration": 43,
    "start_time": "2024-12-03T22:41:13.980Z"
   },
   {
    "duration": 8,
    "start_time": "2024-12-03T22:41:14.026Z"
   },
   {
    "duration": 6,
    "start_time": "2024-12-03T22:41:14.035Z"
   },
   {
    "duration": 13,
    "start_time": "2024-12-03T22:41:14.043Z"
   },
   {
    "duration": 31,
    "start_time": "2024-12-03T22:41:14.058Z"
   },
   {
    "duration": 5,
    "start_time": "2024-12-03T22:41:14.091Z"
   },
   {
    "duration": 5,
    "start_time": "2024-12-03T22:41:14.097Z"
   },
   {
    "duration": 7,
    "start_time": "2024-12-03T22:41:14.105Z"
   },
   {
    "duration": 3,
    "start_time": "2024-12-03T22:41:14.113Z"
   },
   {
    "duration": 4,
    "start_time": "2024-12-03T22:41:14.119Z"
   },
   {
    "duration": 10,
    "start_time": "2024-12-03T22:41:14.124Z"
   },
   {
    "duration": 663,
    "start_time": "2024-12-03T22:41:14.135Z"
   },
   {
    "duration": 14,
    "start_time": "2024-12-03T22:41:14.800Z"
   },
   {
    "duration": 8,
    "start_time": "2024-12-03T22:41:14.817Z"
   },
   {
    "duration": 3,
    "start_time": "2024-12-03T22:41:14.826Z"
   },
   {
    "duration": 126,
    "start_time": "2024-12-03T22:41:14.831Z"
   },
   {
    "duration": 27,
    "start_time": "2024-12-03T22:41:14.959Z"
   },
   {
    "duration": 27,
    "start_time": "2024-12-03T22:41:14.988Z"
   },
   {
    "duration": 330,
    "start_time": "2024-12-03T22:41:15.017Z"
   },
   {
    "duration": 132,
    "start_time": "2024-12-03T22:41:15.349Z"
   },
   {
    "duration": 6,
    "start_time": "2024-12-03T22:41:15.483Z"
   },
   {
    "duration": 180,
    "start_time": "2024-12-03T22:41:15.491Z"
   },
   {
    "duration": 20437,
    "start_time": "2024-12-03T22:43:21.554Z"
   },
   {
    "duration": 4,
    "start_time": "2024-12-03T22:43:41.993Z"
   },
   {
    "duration": 20514,
    "start_time": "2024-12-03T22:43:49.607Z"
   },
   {
    "duration": 6,
    "start_time": "2024-12-03T22:49:06.737Z"
   },
   {
    "duration": 10,
    "start_time": "2024-12-03T22:49:19.326Z"
   },
   {
    "duration": 96,
    "start_time": "2024-12-03T22:49:28.729Z"
   },
   {
    "duration": 22,
    "start_time": "2024-12-03T22:49:40.604Z"
   },
   {
    "duration": 145,
    "start_time": "2024-12-03T22:49:53.163Z"
   },
   {
    "duration": 29,
    "start_time": "2024-12-03T22:50:07.174Z"
   },
   {
    "duration": 445,
    "start_time": "2024-12-03T22:50:18.507Z"
   },
   {
    "duration": 10,
    "start_time": "2024-12-03T22:50:34.639Z"
   },
   {
    "duration": 100,
    "start_time": "2024-12-03T22:50:46.721Z"
   },
   {
    "duration": 13,
    "start_time": "2024-12-03T22:50:59.033Z"
   },
   {
    "duration": 158,
    "start_time": "2024-12-03T22:51:26.921Z"
   },
   {
    "duration": 790,
    "start_time": "2024-12-03T22:55:31.184Z"
   },
   {
    "duration": 28,
    "start_time": "2024-12-03T22:55:43.662Z"
   },
   {
    "duration": 54,
    "start_time": "2024-12-03T22:56:09.561Z"
   },
   {
    "duration": 2713,
    "start_time": "2024-12-03T23:02:09.080Z"
   },
   {
    "duration": 25,
    "start_time": "2024-12-03T23:02:11.795Z"
   },
   {
    "duration": 48,
    "start_time": "2024-12-03T23:02:11.822Z"
   },
   {
    "duration": 9,
    "start_time": "2024-12-03T23:02:11.871Z"
   },
   {
    "duration": 5,
    "start_time": "2024-12-03T23:02:11.883Z"
   },
   {
    "duration": 13,
    "start_time": "2024-12-03T23:02:11.906Z"
   },
   {
    "duration": 16,
    "start_time": "2024-12-03T23:02:11.921Z"
   },
   {
    "duration": 4,
    "start_time": "2024-12-03T23:02:11.938Z"
   },
   {
    "duration": 3,
    "start_time": "2024-12-03T23:02:11.944Z"
   },
   {
    "duration": 5,
    "start_time": "2024-12-03T23:02:11.949Z"
   },
   {
    "duration": 267,
    "start_time": "2024-12-03T23:02:11.957Z"
   },
   {
    "duration": 0,
    "start_time": "2024-12-03T23:02:12.227Z"
   },
   {
    "duration": 0,
    "start_time": "2024-12-03T23:02:12.229Z"
   },
   {
    "duration": 0,
    "start_time": "2024-12-03T23:02:12.230Z"
   },
   {
    "duration": 0,
    "start_time": "2024-12-03T23:02:12.231Z"
   },
   {
    "duration": 0,
    "start_time": "2024-12-03T23:02:12.232Z"
   },
   {
    "duration": 0,
    "start_time": "2024-12-03T23:02:12.233Z"
   },
   {
    "duration": 0,
    "start_time": "2024-12-03T23:02:12.235Z"
   },
   {
    "duration": 0,
    "start_time": "2024-12-03T23:02:12.236Z"
   },
   {
    "duration": 0,
    "start_time": "2024-12-03T23:02:12.237Z"
   },
   {
    "duration": 0,
    "start_time": "2024-12-03T23:02:12.238Z"
   },
   {
    "duration": 0,
    "start_time": "2024-12-03T23:02:12.239Z"
   },
   {
    "duration": 0,
    "start_time": "2024-12-03T23:02:12.240Z"
   },
   {
    "duration": 0,
    "start_time": "2024-12-03T23:02:12.241Z"
   },
   {
    "duration": 0,
    "start_time": "2024-12-03T23:02:12.242Z"
   },
   {
    "duration": 0,
    "start_time": "2024-12-03T23:02:12.244Z"
   },
   {
    "duration": 0,
    "start_time": "2024-12-03T23:02:12.245Z"
   },
   {
    "duration": 0,
    "start_time": "2024-12-03T23:02:12.246Z"
   },
   {
    "duration": 0,
    "start_time": "2024-12-03T23:02:12.248Z"
   },
   {
    "duration": 0,
    "start_time": "2024-12-03T23:02:12.249Z"
   },
   {
    "duration": 0,
    "start_time": "2024-12-03T23:02:12.250Z"
   },
   {
    "duration": 0,
    "start_time": "2024-12-03T23:02:12.251Z"
   },
   {
    "duration": 0,
    "start_time": "2024-12-03T23:02:12.252Z"
   },
   {
    "duration": 0,
    "start_time": "2024-12-03T23:02:12.253Z"
   },
   {
    "duration": 0,
    "start_time": "2024-12-03T23:02:12.254Z"
   },
   {
    "duration": 0,
    "start_time": "2024-12-03T23:02:12.255Z"
   },
   {
    "duration": 0,
    "start_time": "2024-12-03T23:02:12.256Z"
   },
   {
    "duration": 0,
    "start_time": "2024-12-03T23:02:12.306Z"
   },
   {
    "duration": 688,
    "start_time": "2024-12-03T23:02:33.833Z"
   },
   {
    "duration": 3,
    "start_time": "2024-12-03T23:03:06.238Z"
   },
   {
    "duration": 16,
    "start_time": "2024-12-03T23:03:06.678Z"
   },
   {
    "duration": 54,
    "start_time": "2024-12-03T23:03:06.854Z"
   },
   {
    "duration": 8,
    "start_time": "2024-12-03T23:03:07.005Z"
   },
   {
    "duration": 7,
    "start_time": "2024-12-03T23:03:07.140Z"
   },
   {
    "duration": 25,
    "start_time": "2024-12-03T23:03:07.294Z"
   },
   {
    "duration": 24,
    "start_time": "2024-12-03T23:03:07.449Z"
   },
   {
    "duration": 4,
    "start_time": "2024-12-03T23:03:07.610Z"
   },
   {
    "duration": 5,
    "start_time": "2024-12-03T23:03:07.927Z"
   },
   {
    "duration": 7,
    "start_time": "2024-12-03T23:03:08.696Z"
   },
   {
    "duration": 6,
    "start_time": "2024-12-03T23:03:09.074Z"
   },
   {
    "duration": 3,
    "start_time": "2024-12-03T23:03:09.875Z"
   },
   {
    "duration": 9,
    "start_time": "2024-12-03T23:03:10.719Z"
   },
   {
    "duration": 687,
    "start_time": "2024-12-03T23:03:15.726Z"
   },
   {
    "duration": 13,
    "start_time": "2024-12-03T23:03:16.496Z"
   },
   {
    "duration": 8,
    "start_time": "2024-12-03T23:03:16.700Z"
   },
   {
    "duration": 3,
    "start_time": "2024-12-03T23:03:16.960Z"
   },
   {
    "duration": 117,
    "start_time": "2024-12-03T23:03:17.604Z"
   },
   {
    "duration": 17,
    "start_time": "2024-12-03T23:03:17.883Z"
   },
   {
    "duration": 24,
    "start_time": "2024-12-03T23:03:18.509Z"
   },
   {
    "duration": 256,
    "start_time": "2024-12-03T23:03:18.927Z"
   },
   {
    "duration": 120,
    "start_time": "2024-12-03T23:03:19.326Z"
   },
   {
    "duration": 5,
    "start_time": "2024-12-03T23:03:19.640Z"
   },
   {
    "duration": 171,
    "start_time": "2024-12-03T23:03:20.011Z"
   },
   {
    "duration": 20385,
    "start_time": "2024-12-03T23:03:20.466Z"
   },
   {
    "duration": 5,
    "start_time": "2024-12-03T23:03:40.854Z"
   },
   {
    "duration": 10,
    "start_time": "2024-12-03T23:03:40.861Z"
   },
   {
    "duration": 117,
    "start_time": "2024-12-03T23:03:40.874Z"
   },
   {
    "duration": 31,
    "start_time": "2024-12-03T23:03:40.993Z"
   },
   {
    "duration": 270,
    "start_time": "2024-12-03T23:03:41.026Z"
   },
   {
    "duration": 33,
    "start_time": "2024-12-03T23:03:41.297Z"
   },
   {
    "duration": 456,
    "start_time": "2024-12-03T23:03:41.332Z"
   },
   {
    "duration": 19,
    "start_time": "2024-12-03T23:03:41.789Z"
   },
   {
    "duration": 105,
    "start_time": "2024-12-03T23:03:41.811Z"
   },
   {
    "duration": 11,
    "start_time": "2024-12-03T23:03:41.918Z"
   },
   {
    "duration": 295,
    "start_time": "2024-12-03T23:03:41.930Z"
   },
   {
    "duration": 901,
    "start_time": "2024-12-03T23:03:42.226Z"
   },
   {
    "duration": 54,
    "start_time": "2024-12-03T23:03:43.128Z"
   },
   {
    "duration": 5,
    "start_time": "2024-12-03T23:15:18.611Z"
   },
   {
    "duration": 19,
    "start_time": "2024-12-03T23:15:18.633Z"
   },
   {
    "duration": 46,
    "start_time": "2024-12-03T23:15:18.654Z"
   },
   {
    "duration": 11,
    "start_time": "2024-12-03T23:15:18.702Z"
   },
   {
    "duration": 8,
    "start_time": "2024-12-03T23:15:18.715Z"
   },
   {
    "duration": 18,
    "start_time": "2024-12-03T23:15:18.726Z"
   },
   {
    "duration": 17,
    "start_time": "2024-12-03T23:15:18.746Z"
   },
   {
    "duration": 26,
    "start_time": "2024-12-03T23:15:18.765Z"
   },
   {
    "duration": 3,
    "start_time": "2024-12-03T23:15:18.793Z"
   },
   {
    "duration": 6,
    "start_time": "2024-12-03T23:15:18.798Z"
   },
   {
    "duration": 3,
    "start_time": "2024-12-03T23:15:18.806Z"
   },
   {
    "duration": 4,
    "start_time": "2024-12-03T23:15:18.811Z"
   },
   {
    "duration": 9,
    "start_time": "2024-12-03T23:15:18.817Z"
   },
   {
    "duration": 700,
    "start_time": "2024-12-03T23:15:18.829Z"
   },
   {
    "duration": 15,
    "start_time": "2024-12-03T23:15:19.533Z"
   },
   {
    "duration": 9,
    "start_time": "2024-12-03T23:15:19.550Z"
   },
   {
    "duration": 26,
    "start_time": "2024-12-03T23:15:19.561Z"
   },
   {
    "duration": 124,
    "start_time": "2024-12-03T23:15:19.589Z"
   },
   {
    "duration": 29,
    "start_time": "2024-12-03T23:15:19.715Z"
   },
   {
    "duration": 58,
    "start_time": "2024-12-03T23:15:19.746Z"
   },
   {
    "duration": 314,
    "start_time": "2024-12-03T23:15:19.806Z"
   },
   {
    "duration": 129,
    "start_time": "2024-12-03T23:15:20.122Z"
   },
   {
    "duration": 7,
    "start_time": "2024-12-03T23:15:20.253Z"
   },
   {
    "duration": 198,
    "start_time": "2024-12-03T23:15:20.262Z"
   },
   {
    "duration": 20978,
    "start_time": "2024-12-03T23:15:20.462Z"
   },
   {
    "duration": 6,
    "start_time": "2024-12-03T23:15:41.442Z"
   },
   {
    "duration": 11,
    "start_time": "2024-12-03T23:15:41.449Z"
   },
   {
    "duration": 139,
    "start_time": "2024-12-03T23:15:41.462Z"
   },
   {
    "duration": 38,
    "start_time": "2024-12-03T23:15:41.604Z"
   },
   {
    "duration": 262,
    "start_time": "2024-12-03T23:15:41.644Z"
   },
   {
    "duration": 30,
    "start_time": "2024-12-03T23:15:41.908Z"
   },
   {
    "duration": 457,
    "start_time": "2024-12-03T23:15:41.940Z"
   },
   {
    "duration": 10,
    "start_time": "2024-12-03T23:15:42.399Z"
   },
   {
    "duration": 118,
    "start_time": "2024-12-03T23:15:42.411Z"
   },
   {
    "duration": 10,
    "start_time": "2024-12-03T23:15:42.531Z"
   },
   {
    "duration": 273,
    "start_time": "2024-12-03T23:15:42.542Z"
   },
   {
    "duration": 814,
    "start_time": "2024-12-03T23:15:42.817Z"
   },
   {
    "duration": 68,
    "start_time": "2024-12-03T23:15:43.633Z"
   },
   {
    "duration": 3148,
    "start_time": "2024-12-04T00:25:01.951Z"
   },
   {
    "duration": 22,
    "start_time": "2024-12-04T00:25:05.102Z"
   },
   {
    "duration": 52,
    "start_time": "2024-12-04T00:25:05.127Z"
   },
   {
    "duration": 9,
    "start_time": "2024-12-04T00:25:05.181Z"
   },
   {
    "duration": 8,
    "start_time": "2024-12-04T00:25:05.192Z"
   },
   {
    "duration": 20,
    "start_time": "2024-12-04T00:25:05.225Z"
   },
   {
    "duration": 18,
    "start_time": "2024-12-04T00:25:05.247Z"
   },
   {
    "duration": 5,
    "start_time": "2024-12-04T00:25:05.267Z"
   },
   {
    "duration": 3,
    "start_time": "2024-12-04T00:25:05.274Z"
   },
   {
    "duration": 8,
    "start_time": "2024-12-04T00:25:05.279Z"
   },
   {
    "duration": 335,
    "start_time": "2024-12-04T00:25:05.289Z"
   },
   {
    "duration": 0,
    "start_time": "2024-12-04T00:25:05.627Z"
   },
   {
    "duration": 1,
    "start_time": "2024-12-04T00:25:05.627Z"
   },
   {
    "duration": 0,
    "start_time": "2024-12-04T00:25:05.629Z"
   },
   {
    "duration": 0,
    "start_time": "2024-12-04T00:25:05.630Z"
   },
   {
    "duration": 0,
    "start_time": "2024-12-04T00:25:05.632Z"
   },
   {
    "duration": 0,
    "start_time": "2024-12-04T00:25:05.633Z"
   },
   {
    "duration": 0,
    "start_time": "2024-12-04T00:25:05.634Z"
   },
   {
    "duration": 0,
    "start_time": "2024-12-04T00:25:05.635Z"
   },
   {
    "duration": 0,
    "start_time": "2024-12-04T00:25:05.637Z"
   },
   {
    "duration": 0,
    "start_time": "2024-12-04T00:25:05.638Z"
   },
   {
    "duration": 0,
    "start_time": "2024-12-04T00:25:05.640Z"
   },
   {
    "duration": 0,
    "start_time": "2024-12-04T00:25:05.641Z"
   },
   {
    "duration": 0,
    "start_time": "2024-12-04T00:25:05.642Z"
   },
   {
    "duration": 0,
    "start_time": "2024-12-04T00:25:05.643Z"
   },
   {
    "duration": 0,
    "start_time": "2024-12-04T00:25:05.645Z"
   },
   {
    "duration": 0,
    "start_time": "2024-12-04T00:25:05.646Z"
   },
   {
    "duration": 0,
    "start_time": "2024-12-04T00:25:05.647Z"
   },
   {
    "duration": 0,
    "start_time": "2024-12-04T00:25:05.649Z"
   },
   {
    "duration": 0,
    "start_time": "2024-12-04T00:25:05.650Z"
   },
   {
    "duration": 0,
    "start_time": "2024-12-04T00:25:05.651Z"
   },
   {
    "duration": 0,
    "start_time": "2024-12-04T00:25:05.652Z"
   },
   {
    "duration": 0,
    "start_time": "2024-12-04T00:25:05.653Z"
   },
   {
    "duration": 0,
    "start_time": "2024-12-04T00:25:05.654Z"
   },
   {
    "duration": 0,
    "start_time": "2024-12-04T00:25:05.656Z"
   },
   {
    "duration": 0,
    "start_time": "2024-12-04T00:25:05.657Z"
   },
   {
    "duration": 0,
    "start_time": "2024-12-04T00:25:05.658Z"
   },
   {
    "duration": 0,
    "start_time": "2024-12-04T00:25:05.659Z"
   },
   {
    "duration": 160,
    "start_time": "2024-12-04T00:33:02.100Z"
   },
   {
    "duration": 2820,
    "start_time": "2024-12-04T00:33:10.688Z"
   },
   {
    "duration": 25,
    "start_time": "2024-12-04T00:33:13.511Z"
   },
   {
    "duration": 46,
    "start_time": "2024-12-04T00:33:13.538Z"
   },
   {
    "duration": 9,
    "start_time": "2024-12-04T00:33:13.586Z"
   },
   {
    "duration": 12,
    "start_time": "2024-12-04T00:33:13.596Z"
   },
   {
    "duration": 13,
    "start_time": "2024-12-04T00:33:13.610Z"
   },
   {
    "duration": 16,
    "start_time": "2024-12-04T00:33:13.624Z"
   },
   {
    "duration": 5,
    "start_time": "2024-12-04T00:33:13.641Z"
   },
   {
    "duration": 3,
    "start_time": "2024-12-04T00:33:13.648Z"
   },
   {
    "duration": 5,
    "start_time": "2024-12-04T00:33:13.655Z"
   },
   {
    "duration": 137,
    "start_time": "2024-12-04T00:33:13.661Z"
   },
   {
    "duration": 0,
    "start_time": "2024-12-04T00:33:13.800Z"
   },
   {
    "duration": 0,
    "start_time": "2024-12-04T00:33:13.805Z"
   },
   {
    "duration": 0,
    "start_time": "2024-12-04T00:33:13.806Z"
   },
   {
    "duration": 0,
    "start_time": "2024-12-04T00:33:13.808Z"
   },
   {
    "duration": 0,
    "start_time": "2024-12-04T00:33:13.809Z"
   },
   {
    "duration": 0,
    "start_time": "2024-12-04T00:33:13.810Z"
   },
   {
    "duration": 0,
    "start_time": "2024-12-04T00:33:13.810Z"
   },
   {
    "duration": 0,
    "start_time": "2024-12-04T00:33:13.812Z"
   },
   {
    "duration": 0,
    "start_time": "2024-12-04T00:33:13.813Z"
   },
   {
    "duration": 0,
    "start_time": "2024-12-04T00:33:13.814Z"
   },
   {
    "duration": 0,
    "start_time": "2024-12-04T00:33:13.816Z"
   },
   {
    "duration": 0,
    "start_time": "2024-12-04T00:33:13.819Z"
   },
   {
    "duration": 0,
    "start_time": "2024-12-04T00:33:13.820Z"
   },
   {
    "duration": 0,
    "start_time": "2024-12-04T00:33:13.822Z"
   },
   {
    "duration": 0,
    "start_time": "2024-12-04T00:33:13.824Z"
   },
   {
    "duration": 0,
    "start_time": "2024-12-04T00:33:13.825Z"
   },
   {
    "duration": 0,
    "start_time": "2024-12-04T00:33:13.826Z"
   },
   {
    "duration": 0,
    "start_time": "2024-12-04T00:33:13.828Z"
   },
   {
    "duration": 0,
    "start_time": "2024-12-04T00:33:13.829Z"
   },
   {
    "duration": 0,
    "start_time": "2024-12-04T00:33:13.830Z"
   },
   {
    "duration": 0,
    "start_time": "2024-12-04T00:33:13.831Z"
   },
   {
    "duration": 0,
    "start_time": "2024-12-04T00:33:13.832Z"
   },
   {
    "duration": 0,
    "start_time": "2024-12-04T00:33:13.834Z"
   },
   {
    "duration": 1,
    "start_time": "2024-12-04T00:33:13.835Z"
   },
   {
    "duration": 0,
    "start_time": "2024-12-04T00:33:13.837Z"
   },
   {
    "duration": 0,
    "start_time": "2024-12-04T00:33:13.840Z"
   },
   {
    "duration": 0,
    "start_time": "2024-12-04T00:33:13.842Z"
   },
   {
    "duration": 19,
    "start_time": "2024-12-04T00:40:16.263Z"
   },
   {
    "duration": 19,
    "start_time": "2024-12-04T00:40:20.604Z"
   },
   {
    "duration": 4,
    "start_time": "2024-12-04T00:40:22.529Z"
   },
   {
    "duration": 15,
    "start_time": "2024-12-04T00:40:22.537Z"
   },
   {
    "duration": 45,
    "start_time": "2024-12-04T00:40:22.554Z"
   },
   {
    "duration": 10,
    "start_time": "2024-12-04T00:40:22.601Z"
   },
   {
    "duration": 10,
    "start_time": "2024-12-04T00:40:22.613Z"
   },
   {
    "duration": 13,
    "start_time": "2024-12-04T00:40:22.626Z"
   },
   {
    "duration": 16,
    "start_time": "2024-12-04T00:40:22.641Z"
   },
   {
    "duration": 4,
    "start_time": "2024-12-04T00:40:22.658Z"
   },
   {
    "duration": 3,
    "start_time": "2024-12-04T00:40:22.664Z"
   },
   {
    "duration": 39,
    "start_time": "2024-12-04T00:40:22.668Z"
   },
   {
    "duration": 4,
    "start_time": "2024-12-04T00:40:22.709Z"
   },
   {
    "duration": 4,
    "start_time": "2024-12-04T00:40:22.716Z"
   },
   {
    "duration": 10,
    "start_time": "2024-12-04T00:40:22.721Z"
   },
   {
    "duration": 680,
    "start_time": "2024-12-04T00:40:22.733Z"
   },
   {
    "duration": 16,
    "start_time": "2024-12-04T00:40:23.418Z"
   },
   {
    "duration": 11,
    "start_time": "2024-12-04T00:40:23.437Z"
   },
   {
    "duration": 3,
    "start_time": "2024-12-04T00:40:23.450Z"
   },
   {
    "duration": 127,
    "start_time": "2024-12-04T00:40:23.455Z"
   },
   {
    "duration": 28,
    "start_time": "2024-12-04T00:40:23.583Z"
   },
   {
    "duration": 22,
    "start_time": "2024-12-04T00:40:23.613Z"
   },
   {
    "duration": 303,
    "start_time": "2024-12-04T00:40:23.637Z"
   },
   {
    "duration": 126,
    "start_time": "2024-12-04T00:40:23.942Z"
   },
   {
    "duration": 6,
    "start_time": "2024-12-04T00:40:24.069Z"
   },
   {
    "duration": 189,
    "start_time": "2024-12-04T00:40:24.077Z"
   },
   {
    "duration": 20412,
    "start_time": "2024-12-04T00:40:24.267Z"
   },
   {
    "duration": 6,
    "start_time": "2024-12-04T00:40:44.680Z"
   },
   {
    "duration": 23,
    "start_time": "2024-12-04T00:40:44.688Z"
   },
   {
    "duration": 107,
    "start_time": "2024-12-04T00:40:44.712Z"
   },
   {
    "duration": 23,
    "start_time": "2024-12-04T00:40:44.822Z"
   },
   {
    "duration": 275,
    "start_time": "2024-12-04T00:40:44.847Z"
   },
   {
    "duration": 30,
    "start_time": "2024-12-04T00:40:45.124Z"
   },
   {
    "duration": 456,
    "start_time": "2024-12-04T00:40:45.156Z"
   },
   {
    "duration": 9,
    "start_time": "2024-12-04T00:40:45.614Z"
   },
   {
    "duration": 112,
    "start_time": "2024-12-04T00:40:45.625Z"
   },
   {
    "duration": 16,
    "start_time": "2024-12-04T00:40:45.739Z"
   },
   {
    "duration": 290,
    "start_time": "2024-12-04T00:40:45.757Z"
   },
   {
    "duration": 788,
    "start_time": "2024-12-04T00:40:46.048Z"
   },
   {
    "duration": 57,
    "start_time": "2024-12-04T00:40:46.838Z"
   }
  ],
  "kernelspec": {
   "display_name": "Python 3 (ipykernel)",
   "language": "python",
   "name": "python3"
  },
  "language_info": {
   "codemirror_mode": {
    "name": "ipython",
    "version": 3
   },
   "file_extension": ".py",
   "mimetype": "text/x-python",
   "name": "python",
   "nbconvert_exporter": "python",
   "pygments_lexer": "ipython3",
   "version": "3.9.19"
  },
  "toc": {
   "base_numbering": 1,
   "nav_menu": {},
   "number_sections": true,
   "sideBar": true,
   "skip_h1_title": true,
   "title_cell": "Table of Contents",
   "title_sidebar": "Contents",
   "toc_cell": false,
   "toc_position": {},
   "toc_section_display": true,
   "toc_window_display": false
  }
 },
 "nbformat": 4,
 "nbformat_minor": 2
}
